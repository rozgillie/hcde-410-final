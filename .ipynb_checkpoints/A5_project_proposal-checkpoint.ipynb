{
 "cells": [
  {
   "cell_type": "markdown",
   "id": "e76cb2e6-7812-40c4-9a55-1eecc08b7ffc",
   "metadata": {},
   "source": [
    "A5\n",
    "# Motivation\n",
    "I am interested in looking at the effect COVID-19 has had on the general mental health of the United states population. I am specifically interested in the first year of COVID, when everyone was fairly isolated and in general everyone stayed home. I think it will be interesting to see trends in mental health also regarding specific demographics, and to see if any group was disproportionately affected. I hope to learn about the trends of data, and if maybe mental health is improving now that regulations are lifted.\n",
    "\n",
    "# Data Selected\n",
    "For my project I am selecting to use both the Google search API as well as the COVID Impact Survey with data gathered from the Associated Press. The Google search API will allow me to see trends of different search terms over the course of the pandemic. The AP Covid Impact has data on health, economic, and social issues during the first 5 months of lockdown. All of this data is open to the public, and will allow me to explore trends and make takeaways of the united states general mental health based on the surveys. Here are the datasets/ API links:\n",
    "https://data.world/associatedpress/covid-impact-survey-public-data\n",
    "https://www.kaggle.com/code/luckybro/api-for-google-trends-mental-health-and-covid-19\n",
    "\n",
    "# Dependencies\n",
    "I don't have any dependencies in mind that will affect my ability to complete this project. I do think that the COVID Impact Survey data is quite large, so my computer may be slow to process it but besides that I have no current foreseen issues.\n",
    "\n",
    "# Research Questions\n",
    "What affect does COVID-19 have on people's mental health?\n",
    "Has if disproportionately affected certain demographics?\n",
    "\n",
    "# Background\n",
    "There is a thorough amount of research that has covered the effect COVID-19 has had on people’s mental health. One study I looked into compared mental health trends of January in 2021, to the same trends in January of 2019 (https://www.kff.org/coronavirus-covid-19/issue-brief/the-implications-of-covid-19-for-mental-health-and-substance-use/#:~:text=During%20the%20COVID%2D19%20pandemic,largely%20stable%20since%20spring%202020.) This study looked much later into the pandemic than I plan to, but has interesting takeaways that discuss how symptoms of anxiety and depression rose due to the pandemic. Based on my survey data, I plan to do a data analysis similar to this article, but that focuses solely on the first three months of the pandemic.\n",
    "\n",
    "There is also this study done but the CDC that came out in August of 2020 (https://www.cdc.gov/mmwr/volumes/69/wr/mm6932a1.htm), which looks at the self-reports of adults mental health in June 2020. They also looked at how mental health trends affected people as broken down by different demographics, and how mental health rates tie into rising rates of substance abuse and suicide. This study was also done using survey data, and recognizies it as one of it's limitations since the data is self-reported. This is also a limiation I must acknowledge in my work, as the data I am using also was not collected by professionals. Overall, substantial research has been done into how people’s mental health has been affected during the pandemic as whole, and in my research I hope to dial into the very beginning of lockdown specifically.\n",
    "\n",
    "# Methodology\n",
    "For my project I plan to group the COVID survey data into different groups to represent different demogrpahics, and compare their responses to the mental health questionaire. These demographics will include different races, cross referenced with their income and possibly also exploring difference by age. I also plan to take the overall response data to the mental health reporting and use a t-test to compare it to the Google search trends of different terms related to mental health treatment resources. I think visuals will be the most helpful in displaying my data, as my analysis looks at the change of responses over time. Line graphs to compare search trends to questionairre responses will be the most effective in displaying trend data. These methods will help me look deeper into the effect of COVID-19 on different demogprahic mental health data and the t-test specifically will help me understand if the corresponding google search trends are significant or not. \n"
   ]
  }
 ],
 "metadata": {
  "kernelspec": {
   "display_name": "Python 3 (ipykernel)",
   "language": "python",
   "name": "python3"
  },
  "language_info": {
   "codemirror_mode": {
    "name": "ipython",
    "version": 3
   },
   "file_extension": ".py",
   "mimetype": "text/x-python",
   "name": "python",
   "nbconvert_exporter": "python",
   "pygments_lexer": "ipython3",
   "version": "3.9.7"
  }
 },
 "nbformat": 4,
 "nbformat_minor": 5
}
