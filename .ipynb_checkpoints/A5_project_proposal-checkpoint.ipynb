{
 "cells": [
  {
   "cell_type": "markdown",
   "id": "e76cb2e6-7812-40c4-9a55-1eecc08b7ffc",
   "metadata": {},
   "source": [
    "A5\n",
    "# Motivation\n",
    "I am interested in looking at the effect COVID-19 has had on the general mental health of the United states population. I am specifically interested in the first year of COVID, when everyone was fairly isolated and in general everyone stayed home. I think it will be interesting to see trends in mental health also regarding specific demographics, and to see if any group was disproportionately affected. I hope to learn about the trends of data, and if maybe mental health is improving now that regulations are lifted.\n",
    "\n",
    "# Data Selected\n",
    "For my project I am selecting to use both the Google search API as well as the COVID Impact Survey with data gathered from the Associated Press. The Google search API will allow me to see trends of different search terms over the course of the pandemic. The AP Covid Impact has data on health, economic, and social issues during the first 5 months of lockdown. All of this data is open to the public, and will allow me to explore trends and make takeaways of the united states general mental health based on the surveys. Here are the datasets/ API links:\n",
    "https://data.world/associatedpress/covid-impact-survey-public-data\n",
    "https://www.kaggle.com/code/luckybro/api-for-google-trends-mental-health-and-covid-19\n",
    "\n",
    "# Dependencies\n",
    "I don't have any dependencies in mind that will affect my ability to complete this project. I do think that the COVID Impact Survey data is quite large, so my computer may be slow to process it but besides that I have no current foreseen issues.\n",
    "\n",
    "# Research Questions\n",
    "What affect does COVID-19 have on people's mental health?\n",
    "Has if disproportionately affected certain demographics?\n",
    "Has the search for mental health treatment changed in relation to self reports of mental health issues?\n",
    "\n",
    "# Background\n",
    "This is by no means a new topic of discussion, and there have been many studies looking into the negative effects of COVID-19 on mental health. These articles focus mainly on the increase of anxiety and depression not only in the US but worldwide. I'm interested to see how these known trends align with google searches for treatment, and also to see a more specific breakdown of the data by demographics.\n",
    "\n",
    "# Methodology\n",
    "For my project I plan to group the COVID survey data into different groups to represent different demogrpahics, and compare their responses to the mental health questionaire. These demographics will include different races, cross referenced with their income and possibly also exploring difference by age. I also plan to take the overall response data to the mental health reporting and use a t-test to compare it to the Google search trends of different terms related to mental health treatment resources. I think visuals will be the most helpful in displaying my data, as my analysis looks at the change of responses over time. Line graphs to compare search trends to questionairre responses will be the most effective in displaying trend data. These methods will help me look deeper into the effect of COVID-19 on different demogprahic mental health data and the t-test specifically will help me understand if the corresponding google search trends are significant or not. \n"
   ]
  }
 ],
 "metadata": {
  "kernelspec": {
   "display_name": "Python 3 (ipykernel)",
   "language": "python",
   "name": "python3"
  },
  "language_info": {
   "codemirror_mode": {
    "name": "ipython",
    "version": 3
   },
   "file_extension": ".py",
   "mimetype": "text/x-python",
   "name": "python",
   "nbconvert_exporter": "python",
   "pygments_lexer": "ipython3",
   "version": "3.9.7"
  }
 },
 "nbformat": 4,
 "nbformat_minor": 5
}
