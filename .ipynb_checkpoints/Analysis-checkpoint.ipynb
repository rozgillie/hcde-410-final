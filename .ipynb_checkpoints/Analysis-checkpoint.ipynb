{
 "cells": [
  {
   "cell_type": "markdown",
   "id": "e5e3af1c-e935-4bd9-a9f4-1947e33eaeeb",
   "metadata": {},
   "source": [
    "# Analyzing Mental Health During the First Three Weeks of COVID-19 Lockdown\n",
    "#### By Roz Gillie"
   ]
  },
  {
   "cell_type": "markdown",
   "id": "8b155bb6-8ce6-4a4a-80fb-a5a5c3f8abb1",
   "metadata": {},
   "source": [
    "## Introduction\n",
    "I am interested in looking at the effect COVID-19 has had on the general mental health of the United states population. I am specifically interested in the first three months of COVID, when everyone was fairly isolated and in general everyone stayed home. These three months were a time of change for a large population of people, as some lost jobs or suddenly lost connections to friends and family. I think it will be interesting to look at these initial three months and see trends in mental health also regarding specific demographics, and to see if any group was disproportionately affected. "
   ]
  },
  {
   "cell_type": "markdown",
   "id": "0e5d7f2b-966e-40b5-a0a7-01ab562d6e2d",
   "metadata": {},
   "source": [
    "## Background and Related Work\n",
    "There is a thorough amount of research that has gone into the effect of COVID-19 has had on people’s mental health. One study I looked into compared mental health trends of January in 2021, to the same trends in January of 2019 (https://www.kff.org/coronavirus-covid-19/issue-brief/the-implications-of-covid-19-for-mental-health-and-substance-use/#:~:text=During%20the%20COVID%2D19%20pandemic,largely%20stable%20since%20spring%202020.) This study looked much later into the pandemic than I plan to, but has interesting takeaways that discuss how symptoms of anxiety and depression rose due to the pandemic. Based on my survey data, I plan to do a data analysis similar to this article, but that focuses solely on the first three months of the pandemic. \n",
    "\n",
    "There is also this study done but the CDC that came out in August of 2020 (https://www.cdc.gov/mmwr/volumes/69/wr/mm6932a1.htm), which looks at the self-reports of adults mental health in June 2020. They also looked at how mental health trends affected people as broken down by different demographics. This article inspired me to look at the trends in the very beginning of COVID, and just how much those first three months of quarantine affected people. Overall, substantial research has been done into how people’s mental health has been affected during the pandemic as whole, and in my research I hope to dial into the very beginning of lockdown specifically."
   ]
  },
  {
   "cell_type": "markdown",
   "id": "5c067220-a5d8-4d1f-9660-7f3804734a8b",
   "metadata": {},
   "source": [
    "## Research Questions and Hypotheses\n",
    "I originally wanted to look at the affect COVID-19 had on Americans, but because I did not have survey data from before th pandemic, I chose to instead focus on the first three months of the COVID-19 lockdown. \n",
    "\n",
    "**Research Questions: What was the effect of COVID-19 on the mental health of Americans during the first three months of the pandemic? How were specific demographics in the U.S. affected?**\n",
    "\n",
    "Hypothesis: Based on my prior research, I expected there to be a trend upwards of metal health reports over the three months, and that minoritiy groups and lower income groups to be diproprtionatly affected."
   ]
  },
  {
   "cell_type": "markdown",
   "id": "c6786e3b-b967-4e85-ae66-73a3bc93a308",
   "metadata": {},
   "source": [
    "## Methodology"
   ]
  },
  {
   "cell_type": "markdown",
   "id": "045c12a9-fd05-4858-be4a-28a44ea9ca42",
   "metadata": {},
   "source": [
    "Import necessary Python libraries"
   ]
  },
  {
   "cell_type": "code",
   "execution_count": 3,
   "id": "6f7e77b2-9032-43db-b99d-df74b5a1c0ba",
   "metadata": {},
   "outputs": [],
   "source": [
    "import numpy as np\n",
    "import pandas as pd\n",
    "import matplotlib.pyplot as plt\n",
    "%matplotlib inline\n",
    "import scipy as scipy\n",
    "from scipy import stats\n",
    "import seaborn as sns\n",
    "\n",
    "from pytrends.request import TrendReq\n",
    "pytrend = TrendReq()"
   ]
  },
  {
   "cell_type": "code",
   "execution_count": 4,
   "id": "aac894bb-ccec-4230-ba77-a3bffbf56df9",
   "metadata": {},
   "outputs": [],
   "source": [
    "# Friend Aman's code to show smooth line\n",
    "def smooth(y):\n",
    "#     box = np.ones(box_pts)/box_pts\n",
    "    y_smooth = np.convolve(y, np.ones(168), mode='same')/168\n",
    "    return y_smooth"
   ]
  },
  {
   "cell_type": "markdown",
   "id": "82b6671c-a256-486d-91b2-9a3f217540dc",
   "metadata": {},
   "source": [
    "### Initial Data Exploration"
   ]
  },
  {
   "cell_type": "markdown",
   "id": "5ebede88-fc12-42f1-918b-5be4ced16221",
   "metadata": {},
   "source": [
    "To begin exploring my topic, I used the pytrends library to create some visualizations of what the trend sof certain search terms looked like during 2020. I began by looking at the term \"coronavirus anxiety\", to see how the trends of anxiety related to coronavirus progressed. "
   ]
  },
  {
   "cell_type": "code",
   "execution_count": null,
   "id": "04233e6e-2f29-4dde-bf45-84cba4dd6cf5",
   "metadata": {},
   "outputs": [],
   "source": [
    "# size of plot\n",
    "plt.figure(figsize=(20, 7))\n",
    "\n",
    "# keyword term\n",
    "kw_list = ['anxiety coronavirus']\n",
    "\n",
    "# pytrend call of keyword, beginning January 1st 2020 and ending May 31st, 2020\n",
    "interest = pytrend.get_historical_interest(kw_list, year_start=2020, month_start=1, day_start=1, hour_start=1, year_end=2020, month_end=5, day_end=31, hour_end=23, cat=0, geo='', gprop='', sleep=0) \n",
    "\n",
    "# plot of interest in anxiety coronavirus, with smoothing function applied to create a smooth line\n",
    "plt.plot(interest)\n",
    "plt.plot(interest.apply(smooth, axis=0))\n",
    "\n",
    "# plot labels\n",
    "plt.title(\"Google Search Trends of Term ''Anxiety Coronavirus''\")\n",
    "plt.xlabel(\"Date\")\n",
    "plt.ylabel(\"Mental Health Day Frequency\")\n"
   ]
  },
  {
   "cell_type": "code",
   "execution_count": 82,
   "id": "8cd7f4ef-2fd8-462b-b6a9-59c349d24333",
   "metadata": {},
   "outputs": [
    {
     "ename": "KeyboardInterrupt",
     "evalue": "",
     "output_type": "error",
     "traceback": [
      "\u001b[0;31m---------------------------------------------------------------------------\u001b[0m",
      "\u001b[0;31mKeyboardInterrupt\u001b[0m                         Traceback (most recent call last)",
      "\u001b[0;32m/tmp/ipykernel_55/494411869.py\u001b[0m in \u001b[0;36m<module>\u001b[0;34m\u001b[0m\n\u001b[1;32m      3\u001b[0m \u001b[0mkw_list\u001b[0m \u001b[0;34m=\u001b[0m \u001b[0;34m[\u001b[0m\u001b[0;34m'anxiety'\u001b[0m\u001b[0;34m,\u001b[0m \u001b[0;34m'mental health'\u001b[0m\u001b[0;34m,\u001b[0m \u001b[0;34m'depression'\u001b[0m\u001b[0;34m,\u001b[0m \u001b[0;34m'covid'\u001b[0m\u001b[0;34m]\u001b[0m\u001b[0;34m\u001b[0m\u001b[0;34m\u001b[0m\u001b[0m\n\u001b[1;32m      4\u001b[0m \u001b[0;32mfor\u001b[0m \u001b[0mkw\u001b[0m \u001b[0;32min\u001b[0m \u001b[0mkw_list\u001b[0m\u001b[0;34m:\u001b[0m\u001b[0;34m\u001b[0m\u001b[0;34m\u001b[0m\u001b[0m\n\u001b[0;32m----> 5\u001b[0;31m     \u001b[0minterest\u001b[0m \u001b[0;34m=\u001b[0m \u001b[0mpytrend\u001b[0m\u001b[0;34m.\u001b[0m\u001b[0mget_historical_interest\u001b[0m\u001b[0;34m(\u001b[0m\u001b[0;34m[\u001b[0m\u001b[0mkw\u001b[0m\u001b[0;34m]\u001b[0m\u001b[0;34m,\u001b[0m \u001b[0myear_start\u001b[0m\u001b[0;34m=\u001b[0m\u001b[0;36m2020\u001b[0m\u001b[0;34m,\u001b[0m \u001b[0mmonth_start\u001b[0m\u001b[0;34m=\u001b[0m\u001b[0;36m1\u001b[0m\u001b[0;34m,\u001b[0m \u001b[0mday_start\u001b[0m\u001b[0;34m=\u001b[0m\u001b[0;36m1\u001b[0m\u001b[0;34m,\u001b[0m \u001b[0mhour_start\u001b[0m\u001b[0;34m=\u001b[0m\u001b[0;36m1\u001b[0m\u001b[0;34m,\u001b[0m \u001b[0myear_end\u001b[0m\u001b[0;34m=\u001b[0m\u001b[0;36m2020\u001b[0m\u001b[0;34m,\u001b[0m \u001b[0mmonth_end\u001b[0m\u001b[0;34m=\u001b[0m\u001b[0;36m12\u001b[0m\u001b[0;34m,\u001b[0m \u001b[0mday_end\u001b[0m\u001b[0;34m=\u001b[0m\u001b[0;36m31\u001b[0m\u001b[0;34m,\u001b[0m \u001b[0mhour_end\u001b[0m\u001b[0;34m=\u001b[0m\u001b[0;36m23\u001b[0m\u001b[0;34m,\u001b[0m \u001b[0mgeo\u001b[0m\u001b[0;34m=\u001b[0m\u001b[0;34m'US'\u001b[0m\u001b[0;34m,\u001b[0m \u001b[0mgprop\u001b[0m\u001b[0;34m=\u001b[0m\u001b[0;34m''\u001b[0m\u001b[0;34m,\u001b[0m \u001b[0msleep\u001b[0m\u001b[0;34m=\u001b[0m\u001b[0;36m60\u001b[0m\u001b[0;34m)\u001b[0m\u001b[0;34m\u001b[0m\u001b[0;34m\u001b[0m\u001b[0m\n\u001b[0m\u001b[1;32m      6\u001b[0m     \u001b[0mplt\u001b[0m\u001b[0;34m.\u001b[0m\u001b[0mplot\u001b[0m\u001b[0;34m(\u001b[0m\u001b[0minterest\u001b[0m\u001b[0;34m.\u001b[0m\u001b[0mapply\u001b[0m\u001b[0;34m(\u001b[0m\u001b[0msmooth\u001b[0m\u001b[0;34m,\u001b[0m \u001b[0maxis\u001b[0m\u001b[0;34m=\u001b[0m\u001b[0;36m0\u001b[0m\u001b[0;34m)\u001b[0m\u001b[0;34m)\u001b[0m\u001b[0;34m\u001b[0m\u001b[0;34m\u001b[0m\u001b[0m\n\u001b[1;32m      7\u001b[0m     \u001b[0mplt\u001b[0m\u001b[0;34m.\u001b[0m\u001b[0mtitle\u001b[0m\u001b[0;34m(\u001b[0m\u001b[0;34m\"Google Search Trends of Mental Health Terms and COVID\"\u001b[0m\u001b[0;34m)\u001b[0m\u001b[0;34m\u001b[0m\u001b[0;34m\u001b[0m\u001b[0m\n",
      "\u001b[0;32m/opt/conda/lib/python3.9/site-packages/pytrends/request.py\u001b[0m in \u001b[0;36mget_historical_interest\u001b[0;34m(self, keywords, year_start, month_start, day_start, hour_start, year_end, month_end, day_end, hour_end, cat, geo, gprop, sleep, frequency)\u001b[0m\n\u001b[1;32m    617\u001b[0m             \u001b[0;31m# just in case you are rate-limited by Google. Recommended is 60 if you are.\u001b[0m\u001b[0;34m\u001b[0m\u001b[0;34m\u001b[0m\u001b[0m\n\u001b[1;32m    618\u001b[0m             \u001b[0;32mif\u001b[0m \u001b[0msleep\u001b[0m \u001b[0;34m>\u001b[0m \u001b[0;36m0\u001b[0m\u001b[0;34m:\u001b[0m\u001b[0;34m\u001b[0m\u001b[0;34m\u001b[0m\u001b[0m\n\u001b[0;32m--> 619\u001b[0;31m                 \u001b[0mtime\u001b[0m\u001b[0;34m.\u001b[0m\u001b[0msleep\u001b[0m\u001b[0;34m(\u001b[0m\u001b[0msleep\u001b[0m\u001b[0;34m)\u001b[0m\u001b[0;34m\u001b[0m\u001b[0;34m\u001b[0m\u001b[0m\n\u001b[0m\u001b[1;32m    620\u001b[0m \u001b[0;34m\u001b[0m\u001b[0m\n\u001b[1;32m    621\u001b[0m         \u001b[0;31m# Return the dataframe with results from our timeframe\u001b[0m\u001b[0;34m\u001b[0m\u001b[0;34m\u001b[0m\u001b[0m\n",
      "\u001b[0;31mKeyboardInterrupt\u001b[0m: "
     ]
    },
    {
     "data": {
      "text/plain": [
       "<Figure size 1440x504 with 0 Axes>"
      ]
     },
     "metadata": {},
     "output_type": "display_data"
    }
   ],
   "source": [
    "### Google search trends of mental health terms, compared to coronavirus and people's sear\n",
    "\n",
    "# plot size\n",
    "plt.figure(figsize=(20, 7))\n",
    "\n",
    "# mental health term list\n",
    "kw_list = ['anxiety', 'mental health', 'depression', 'covid']\n",
    "\n",
    "# function that loops through search terms and stacks plots on top of one another. Covers the entire year of 2020.\n",
    "for kw in kw_list:\n",
    "    interest = pytrend.get_historical_interest([kw], year_start=2020, month_start=1, day_start=1, hour_start=1, year_end=2020, month_end=12, day_end=31, hour_end=23, geo='US', gprop='', sleep=60) \n",
    "    plt.plot(interest.apply(smooth, axis=0))\n",
    "    plt.title(\"Google Search Trends of Mental Health Terms and COVID\")\n",
    "    plt.xlabel(\"Date\")\n",
    "    plt.ylabel(\"SEearch Frequency Proportion\")\n"
   ]
  },
  {
   "cell_type": "code",
   "execution_count": 79,
   "id": "5837c90f-1730-45f7-b2af-0edbcbefc423",
   "metadata": {},
   "outputs": [
    {
     "data": {
      "image/png": "[encoded data removed]",
      "text/plain": [
       "<Figure size 1440x504 with 1 Axes>"
      ]
     },
     "metadata": {
      "needs_background": "light"
     },
     "output_type": "display_data"
    }
   ],
   "source": [
    "### Google search trends of people's search for therapy and a psychiatrists\n",
    "\n",
    "# plot size\n",
    "plt.figure(figsize=(20, 7))\n",
    "\n",
    "# therapy term list\n",
    "therapy_list = ['therapy', \"psychiatrist\"]\n",
    "\n",
    "# function that loops through search terms and stacks plots on top of one another\n",
    "for kw in therapy_list:\n",
    "    interest = pytrend.get_historical_interest([kw], year_start=2020, month_start=1, day_start=1, hour_start=1, year_end=2020, month_end=8, day_end=31, hour_end=23, geo='US', gprop='', sleep=1) \n",
    "    plt.plot(interest.apply(smooth, axis=0))\n",
    "    plt.title(\"Google Search Trends for ''Therapy'' and ''Psychiatrists'' from January 2020 - August 2020\")\n",
    "    plt.xlabel(\"Date\")\n",
    "    plt.ylabel(\"Search Frequency Proportion\")"
   ]
  },
  {
   "cell_type": "markdown",
   "id": "6ac07755-4643-499a-bfe3-0b8d8051421f",
   "metadata": {},
   "source": [
    "## Survey Data Analysis Preparation"
   ]
  },
  {
   "cell_type": "markdown",
   "id": "1dd1ee44-8f9a-46f4-8143-fa658d279bd3",
   "metadata": {},
   "source": [
    "After exploring google search trends, I then got into the true analysis of the data. For this section I used the survey data that had three dataframes; one for April, one for May, and one for June of 2020. Each dataframe has 178 columns and roughly 8,700 rows. To help my computer handle this data quickly, and to perform my data analysos, I needed to first clean up the dataframes and add columns that would be used in my data anlysis. "
   ]
  },
  {
   "cell_type": "code",
   "execution_count": 5,
   "id": "aa8de737-66f3-4344-ad8b-682aaad531a8",
   "metadata": {},
   "outputs": [
    {
     "name": "stderr",
     "output_type": "stream",
     "text": [
      "/opt/conda/lib/python3.9/site-packages/IPython/core/interactiveshell.py:3444: FutureWarning: The error_bad_lines argument has been deprecated and will be removed in a future version.\n",
      "\n",
      "\n",
      "  exec(code_obj, self.user_global_ns, self.user_ns)\n",
      "Skipping line 5949: unexpected end of data\n",
      "Skipping line 3788: unexpected end of data\n"
     ]
    }
   ],
   "source": [
    "# read in april dataframe\n",
    "df1 = pd.read_csv(\"April_Survey.csv\",  \n",
    "                engine='python',encoding='utf-8', error_bad_lines=False)\n",
    "df1['MONTH'] = \"April\"\n",
    "\n",
    "# read in may dataframe\n",
    "df2 = pd.read_csv(\"May_Survey.csv\", \n",
    "                engine='python',encoding='utf-8', error_bad_lines=False)\n",
    "df2['MONTH'] = \"May\"\n",
    "\n",
    "# read in june dataframe\n",
    "df3 = pd.read_csv(\"June_Survey.csv\", \n",
    "                engine='python',encoding='utf-8', error_bad_lines=False)\n",
    "df3['MONTH'] = \"June\"\n",
    "\n",
    "# concat to one big data frame\n",
    "data = pd.concat([df1, df2, df3], axis=0)\n",
    "\n",
    "# choose only necessary columns\n",
    "d = data[[\"INC_BANNER\", \"RACE1_BANNER\", \"MONTH\", \"GENDER\", \"SOC5A\", \"SOC5B\", \"SOC5C\", \"SOC5D\", \"SOC5E\"]]\n"
   ]
  },
  {
   "cell_type": "markdown",
   "id": "9902107a-768c-48d4-839b-b47c6f20b98f",
   "metadata": {},
   "source": [
    "To analyze the mental health data of survey takers, I am looking at the columns SOC5A, SOC5B, SOC5C, SOC5D, SOC5E. These correspond to the answers for this question from the survey:\n",
    "\n",
    "In the past 7 days, how often have you…\n",
    "\n",
    "RANDOMIZE GRID ITEMS:\n",
    "1. (A) Felt nervous, anxious, or on edge\n",
    "2. (B) Felt depressed\n",
    "3. (C) Felt lonely\n",
    "4. (D) Felt hopeless about the future\n",
    "5. (E) [ANCHOR] Had physical reactions such as sweating, trouble breathing, nausea or a pounding heart when thinking about your experience with the coronavirus pandemic\n",
    "\n",
    "RESPONSE OPTIONS:\n",
    "1. Not at all or less than 1 day\n",
    "2. 1-2 days\n",
    "3. 3-4 days\n",
    "4. 5-7 days"
   ]
  },
  {
   "cell_type": "markdown",
   "id": "d9ce683c-654c-46b1-bb18-90836bb3bc1f",
   "metadata": {},
   "source": [
    "To allow me to work with a single datapoint to represent a mental health score, I then added a column to the datasets that represented the total frequency of \"mental health days\", or days they experienced one of the grid items above, and added them together into a single score. Because the frequency scores didn't have a zero, I compensated for that by subtracting 5 from the total score. "
   ]
  },
  {
   "cell_type": "code",
   "execution_count": 6,
   "id": "85e16373-65a5-47de-a6d7-99a1b1ceaec7",
   "metadata": {},
   "outputs": [
    {
     "name": "stderr",
     "output_type": "stream",
     "text": [
      "/tmp/ipykernel_171/1143135458.py:1: SettingWithCopyWarning: \n",
      "A value is trying to be set on a copy of a slice from a DataFrame.\n",
      "Try using .loc[row_indexer,col_indexer] = value instead\n",
      "\n",
      "See the caveats in the documentation: https://pandas.pydata.org/pandas-docs/stable/user_guide/indexing.html#returning-a-view-versus-a-copy\n",
      "  d['SOC5A_num']=d['SOC5A'].str[1:2]\n",
      "/tmp/ipykernel_171/1143135458.py:2: SettingWithCopyWarning: \n",
      "A value is trying to be set on a copy of a slice from a DataFrame.\n",
      "Try using .loc[row_indexer,col_indexer] = value instead\n",
      "\n",
      "See the caveats in the documentation: https://pandas.pydata.org/pandas-docs/stable/user_guide/indexing.html#returning-a-view-versus-a-copy\n",
      "  d['SOC5B_num']=d['SOC5B'].str[1:2]\n",
      "/tmp/ipykernel_171/1143135458.py:3: SettingWithCopyWarning: \n",
      "A value is trying to be set on a copy of a slice from a DataFrame.\n",
      "Try using .loc[row_indexer,col_indexer] = value instead\n",
      "\n",
      "See the caveats in the documentation: https://pandas.pydata.org/pandas-docs/stable/user_guide/indexing.html#returning-a-view-versus-a-copy\n",
      "  d['SOC5C_num']=d['SOC5C'].str[1:2]\n",
      "/tmp/ipykernel_171/1143135458.py:4: SettingWithCopyWarning: \n",
      "A value is trying to be set on a copy of a slice from a DataFrame.\n",
      "Try using .loc[row_indexer,col_indexer] = value instead\n",
      "\n",
      "See the caveats in the documentation: https://pandas.pydata.org/pandas-docs/stable/user_guide/indexing.html#returning-a-view-versus-a-copy\n",
      "  d['SOC5D_num']=d['SOC5D'].str[1:2]\n",
      "/tmp/ipykernel_171/1143135458.py:5: SettingWithCopyWarning: \n",
      "A value is trying to be set on a copy of a slice from a DataFrame.\n",
      "Try using .loc[row_indexer,col_indexer] = value instead\n",
      "\n",
      "See the caveats in the documentation: https://pandas.pydata.org/pandas-docs/stable/user_guide/indexing.html#returning-a-view-versus-a-copy\n",
      "  d['SOC5E_num']=d['SOC5E'].str[1:2]\n",
      "/tmp/ipykernel_171/1143135458.py:7: SettingWithCopyWarning: \n",
      "A value is trying to be set on a copy of a slice from a DataFrame.\n",
      "Try using .loc[row_indexer,col_indexer] = value instead\n",
      "\n",
      "See the caveats in the documentation: https://pandas.pydata.org/pandas-docs/stable/user_guide/indexing.html#returning-a-view-versus-a-copy\n",
      "  d['sum'] = (pd.to_numeric(d['SOC5A_num']) + pd.to_numeric(d['SOC5B_num']) + pd.to_numeric(d['SOC5C_num']) + pd.to_numeric(d['SOC5D_num']) + pd.to_numeric(d['SOC5E_num'])) - 5\n"
     ]
    }
   ],
   "source": [
    "d['SOC5A_num']=d['SOC5A'].str[1:2] \n",
    "d['SOC5B_num']=d['SOC5B'].str[1:2]\n",
    "d['SOC5C_num']=d['SOC5C'].str[1:2]\n",
    "d['SOC5D_num']=d['SOC5D'].str[1:2]\n",
    "d['SOC5E_num']=d['SOC5E'].str[1:2]\n",
    "\n",
    "d['sum'] = (pd.to_numeric(d['SOC5A_num']) + pd.to_numeric(d['SOC5B_num']) + pd.to_numeric(d['SOC5C_num']) + pd.to_numeric(d['SOC5D_num']) + pd.to_numeric(d['SOC5E_num'])) - 5\n"
   ]
  },
  {
   "cell_type": "code",
   "execution_count": 7,
   "id": "a9c808f0-d183-4016-b7e5-e923258de425",
   "metadata": {},
   "outputs": [],
   "source": [
    "df1['SOC5A_num']=df1['SOC5A'].str[1:2] \n",
    "df1['SOC5B_num']=df1['SOC5B'].str[1:2]\n",
    "df1['SOC5C_num']=df1['SOC5C'].str[1:2]\n",
    "df1['SOC5D_num']=df1['SOC5D'].str[1:2]\n",
    "df1['SOC5E_num']=df1['SOC5E'].str[1:2]\n",
    "\n",
    "df2['SOC5A_num']=df2['SOC5A'].str[1:2]\n",
    "df2['SOC5B_num']=df2['SOC5B'].str[1:2]\n",
    "df2['SOC5C_num']=df2['SOC5C'].str[1:2]\n",
    "df2['SOC5D_num']=df2['SOC5D'].str[1:2]\n",
    "df2['SOC5E_num']=df2['SOC5E'].str[1:2]\n",
    "\n",
    "df3['SOC5A_num']=df3['SOC5A'].str[1:2]\n",
    "df3['SOC5B_num']=df3['SOC5B'].str[1:2]\n",
    "df3['SOC5C_num']=df3['SOC5C'].str[1:2]\n",
    "df3['SOC5D_num']=df3['SOC5D'].str[1:2]\n",
    "df3['SOC5E_num']=df3['SOC5E'].str[1:2]\n",
    "\n",
    "df1['sum'] = (pd.to_numeric(df1['SOC5A_num']) + pd.to_numeric(df1['SOC5B_num']) + pd.to_numeric(df1['SOC5C_num']) + pd.to_numeric(df1['SOC5D_num']) + pd.to_numeric(df1['SOC5E_num'])) - 5\n",
    "df2['sum'] = (pd.to_numeric(df2['SOC5A_num']) + pd.to_numeric(df2['SOC5B_num']) + pd.to_numeric(df2['SOC5C_num']) + pd.to_numeric(df2['SOC5D_num']) + pd.to_numeric(df2['SOC5E_num'])) - 5\n",
    "df3['sum'] = (pd.to_numeric(df3['SOC5A_num']) + pd.to_numeric(df3['SOC5B_num']) + pd.to_numeric(df3['SOC5C_num']) + pd.to_numeric(df3['SOC5D_num']) + pd.to_numeric(df3['SOC5E_num'])) - 5\n",
    "\n"
   ]
  },
  {
   "cell_type": "markdown",
   "id": "c7a3d279-c871-451a-b696-52036adcff95",
   "metadata": {},
   "source": [
    "## Data analysis"
   ]
  },
  {
   "cell_type": "markdown",
   "id": "44096865-9fb1-41fa-8940-932f031d6257",
   "metadata": {},
   "source": [
    "### Looking at the data as a whole"
   ]
  },
  {
   "cell_type": "markdown",
   "id": "645a6c9e-bce3-4cd4-b750-183198ca0ed8",
   "metadata": {},
   "source": [
    "To begin my data analysis, I wanted to see if there were significant trends when you compared the mental health scores between April, May, and June of all survey takers. To conduct this analysis, I created numpy arrays of the mental health score (or 'sum' column) and ran a one-way ANOVA test on them. The one-way ANOVA tests the null hypothesis that two or more groups have the same population mean. The test is applied to samples from two or more groups, possibly with differing sizes (https://docs.scipy.org/doc/scipy/reference/generated/scipy.stats.f_oneway.html)."
   ]
  },
  {
   "cell_type": "code",
   "execution_count": 8,
   "id": "6942d669-554f-415e-a6d4-6ce9cb0f29d9",
   "metadata": {},
   "outputs": [],
   "source": [
    "# numpy arrays of sum column for each dataframe\n",
    "apr = np.array(df1['sum'])\n",
    "may = np.array(df2['sum'])\n",
    "june = np.array(df3['sum'])"
   ]
  },
  {
   "cell_type": "code",
   "execution_count": 9,
   "id": "41203e7f-6ac8-4901-8829-bd6cf6659763",
   "metadata": {},
   "outputs": [
    {
     "data": {
      "text/plain": [
       "F_onewayResult(statistic=1.977632225213945, pvalue=0.13843924319100234)"
      ]
     },
     "execution_count": 9,
     "metadata": {},
     "output_type": "execute_result"
    }
   ],
   "source": [
    "# ANOVA test of all mental health scores\n",
    "scipy.stats.f_oneway(apr, may, june)\n"
   ]
  },
  {
   "cell_type": "markdown",
   "id": "e7983b23-df35-439e-924a-a4008b4533bc",
   "metadata": {},
   "source": [
    "To create a visual element, I then used a distribution plot to see if there were any visible variations across the three datasets."
   ]
  },
  {
   "cell_type": "code",
   "execution_count": 10,
   "id": "f185d24a-d325-429f-9cf2-f5aa5288237b",
   "metadata": {},
   "outputs": [
    {
     "name": "stderr",
     "output_type": "stream",
     "text": [
      "/opt/conda/lib/python3.9/site-packages/seaborn/distributions.py:2619: FutureWarning: `distplot` is a deprecated function and will be removed in a future version. Please adapt your code to use either `displot` (a figure-level function with similar flexibility) or `histplot` (an axes-level function for histograms).\n",
      "  warnings.warn(msg, FutureWarning)\n",
      "/opt/conda/lib/python3.9/site-packages/seaborn/distributions.py:2619: FutureWarning: `distplot` is a deprecated function and will be removed in a future version. Please adapt your code to use either `displot` (a figure-level function with similar flexibility) or `histplot` (an axes-level function for histograms).\n",
      "  warnings.warn(msg, FutureWarning)\n",
      "/opt/conda/lib/python3.9/site-packages/seaborn/distributions.py:2619: FutureWarning: `distplot` is a deprecated function and will be removed in a future version. Please adapt your code to use either `displot` (a figure-level function with similar flexibility) or `histplot` (an axes-level function for histograms).\n",
      "  warnings.warn(msg, FutureWarning)\n"
     ]
    },
    {
     "data": {
      "text/plain": [
       "<AxesSubplot:ylabel='Density'>"
      ]
     },
     "execution_count": 10,
     "metadata": {},
     "output_type": "execute_result"
    },
    {
     "data": {
      "image/png": "[encoded data removed]",
      "text/plain": [
       "<Figure size 432x288 with 1 Axes>"
      ]
     },
     "metadata": {
      "needs_background": "light"
     },
     "output_type": "display_data"
    }
   ],
   "source": [
    "sns.distplot(apr,kde=True)\n",
    "sns.distplot(may,kde=True)\n",
    "sns.distplot(june,kde=True)"
   ]
  },
  {
   "cell_type": "markdown",
   "id": "761275c9-fd40-4597-915c-bd2a84131283",
   "metadata": {},
   "source": [
    "### Looking at the data in regards to ethnic group"
   ]
  },
  {
   "cell_type": "markdown",
   "id": "bb3f15a9-51f9-43d8-83a1-6f2adc9b58b8",
   "metadata": {},
   "source": [
    "After looking at the data as a whole, I then decided to see if there were any trends when broken down and grouped by ethnic group. To do this analysis, I first had to create a list of the ethnic groups recorded in the survey. Then using this list, I iterated through each data frame to create a list of lists that grouped the mental health scores into each ethnic group category. I then assigned each list for a specific ethnic group to a variable so I could look at trends indiviudally. I then ran ANOVA tests on each ethnic group."
   ]
  },
  {
   "cell_type": "code",
   "execution_count": 12,
   "id": "8039e391-9cf4-41f9-bde2-280a75dc091a",
   "metadata": {},
   "outputs": [
    {
     "name": "stdout",
     "output_type": "stream",
     "text": [
      "[[0, 0, 2, 6, 9, 1, 0, 8, 4, 0, 0, 0, 2, 6, 2, 11, 3, 8, 0, 14, 0, 5, 0, 11, 0, 2, 2, 1, 0, 0, 0, 0, 3, 7, 3, 0, 0, 1, 2, 0, 0, 3, 0, 4, 9, 0, 2, 2, 1, 0, 3, 6, 0, 0, 0, 1, 7, 0, 0, 0, 0, 2, 0, 8, 0, 2, 10, 2, 0, 7, 0, 8, 3, 0, 0, 0, 2, 1, 0, 1, 1, 6, 2, 1, 1, 4, 0, 8, 0, 0, 0, 2, 4, 4, 8, 0, 0, 4, 2, 0, 2, 0, 0, 0, 2, 0, 4, 4, 1, 1, 2, 1, 1, 0, 1, 0, 4, 1, 0, 12, 0, 0, 9, 6, 0, 6, 7, 9, 0, 1, 1, 0, 0, 3, 11, 0, 0, 5, 1, 1, 3, 0, 0, 0, 0, 1, 6, 2, 2, 0, 0, 1, 2, 0, 1, 0, 1, 4, 0, 1, 0, 7, 10, 14, 0, 3, 6, 4, 0, 5, 0, 1, 0, 0, 7, 0, 2, 4, 0, 5, 4, 1, 0, 1, 6, 6, 0, 1, 1, 5, 3, 3, 0, 0, 1, 2, 1, 7, 5, 1, 3, 2, 8, 7, 0, 3, 0, 0, 0, 0, 2, 12, 0, 5, 0, 1, 0, 12, 1, 6, 1, 4, 8, 7, 2, 1, 2, 4, 0, 6, 1, 2, 0, 6, 1, 0, 0, 5, 9, 12, 11, 0, 2, 10, 0, 6, 3, 5, 0, 0, 0, 5, 0, 0, 2, 2, 0, 1, 0, 0, 0, 5, 2, 5, 1, 3, 3, 5, 0, 6, 1, 0, 0, 2, 0, 0, 0, 0, 4, 15, 6, 3, 3, 2, 1, 1, 2, 1, 0, 0, 1, 0, 0, 0, 1, 3, 2, 0, 3, 5, 4, 9, 0, 6, 1, 0, 14, 5, 6, 9, 0, 0, 5, 2, 2, 1, 2, 0, 0, 0, 1, 0, 9, 1, 0, 0, 5, 0, 1, 0, 0, 8, 2, 0, 2, 0, 0, 7, 0, 0, 3, 2, 0, 3, 0, 3, 12, 11, 0, 0, 0, 0, 0, 2, 1, 0, 1, 0, 7, 1, 1, 0, 6, 1, 0, 1, 2, 0, 1, 1, 1, 1, 0, 0, 6, 0, 0, 1, 0, 2, 3, 4, 2, 0, 0, 0, 1, 1, 6, 3, 1, 0, 2, 2, 1, 0, 1, 2, 0, 0, 2, 1, 1, 11, 7, 0, 1, 0, 10, 5, 4, 0, 1, 0, 2, 2, 3, 3, 2, 0, 3, 0, 10, 5, 7, 0, 0, 0, 6, 4, 4, 0, 0, 0, 2, 0, 2, 0, 0, 10, 0, 1, 1, 5, 7, 0, 3, 0, 1, 7, 3, 3, 0, 3, 0, 0, 0, 0, 2, 0, 0, 0, 2, 7, 1, 7, 1, 0, 4, 3, 2, 0, 4, 6, 0, 4, 0, 0, 2, 1, 0, 3, 0, 1, 4, 0, 0, 1, 1, 0, 11, 0, 0, 2, 1, 6, 6, 14, 3, 1, 9, 0, 6, 0, 0, 7, 0, 2, 1, 0, 1, 1, 1, 3, 1, 0, 0, 3, 1, 0, 1, 0, 0, 12, 0, 0, 0, 0, 2, 0, 0, 0, 5, 1, 11, 0, 0, 13, 0, 2, 0, 0, 6, 0, 10, 0, 4, 1, 0, 0, 0, 9, 40, 7, 1, 4, 1, 0, 2, 5, 5, 1, 0, 4, 2, 1, 2, 3, 6, 9, 0, 0, 0, 6, 2, 0, 5, 2, 5, 1, 1, 4, 0, 0, 1, 1, 2, 1, 6, 1, 0, 10, 4, 0, 5, 3, 1, 8, 0, 8, 1, 0, 3, 2, 1, 2, 0, 11, 4, 0, 2, 6, 2, 3, 1, 0, 0, 1, 2, 0, 3, 1, 0, 0, 0, 0, 2, 5, 2, 0, 0, 0, 5, 0, 7, 0, 6, 2, 0, 4, 0, 1, 0, 10, 13, 4, 2, 6, 1, 2, 0, 0, 0, 4, 7, 0, 0, 1, 4, 0, 1, 0, 2, 2, 0, 0, 0, 8, 0, 12, 0, 0, 8, 2, 2, 15, 0, 4, 16, 0, 1, 0, 0, 0, 4, 12, 2, 5, 1, 0, 1, 4, 4, 1, 5, 0, 0, 3, 4, 0, 5, 1, 0, 3, 0, 1, 8, 4, 2, 0, 1, 1, 3, 7, 0, 6, 0, 9, 5, 0, 0, 4, 0, 0, 3, 0, 12, 0, 2, 0, 2, 3, 2, 1, 0, 1, 0, 2, 0, 5, 5, 5, 7, 2, 0, 0, 0, 0, 0, 4, 4, 0, 8, 7, 4, 5, 10, 0, 0, 10, 3, 0, 0, 9, 1, 3, 0, 3, 3, 0, 5, 0, 0, 0, 0, 5, 0, 3, 1, 0, 1, 0, 0, 0, 6, 6, 9, 0, 2, 1, 3, 10, 1, 0, 6, 0, 0, 0, 0, 0, 0, 0, 0, 0, 3, 0, 2, 0, 7, 0, 0, 5, 2, 3, 10, 0, 4, 2, 0, 0, 4, 2, 0, 1, 2, 2, 0, 2, 0, 9, 0, 9, 0, 1, 0, 0, 2, 0, 4, 0, 1, 0, 0, 2, 5, 0, 1, 0, 8, 4, 3, 0, 0, 10, 6, 11, 4, 8, 0, 11, 0, 0, 1, 4, 0, 3, 0, 0, 1, 2, 3, 4, 4, 6, 4, 2, 0, 0, 1, 1, 0, 0, 0, 0, 10, 3, 0, 0, 0, 4, 10, 0, 0, 9, 4, 2, 0, 4, 1, 0, 0, 2, 0, 2, 4, 5, 1, 3, 0, 1, 4, 10, 4, 0, 2, 13, 1, 3, 0, 0, 5, 0, 1, 0, 5, 0, 0, 0, 0, 0, 7, 2, 2, 12, 5, 15, 1, 0, 0, 0, 8, 4, 2, 1, 0, 0, 1, 1, 1, 6, 1, 4, 3, 1, 2, 0, 0, 2, 16, 10, 0, 3, 0, 0, 1, 1, 8, 9, 2, 6, 7, 1, 0, 0, 6, 1, 2, 0, 4, 0, 1, 0, 0, 2, 4, 9, 2, 5, 0, 15, 12, 0, 0, 3, 2, 1, 6, 0, 0, 0, 0, 11, 0, 7, 3, 2, 5, 3, 1, 0, 1, 4, 0, 2, 3, 0, 0, 0, 0, 0, 0, 0, 0, 6, 4, 8, 2, 12, 10, 4, 5, 0, 3, 3, 3, 2, 0, 1, 11, 0, 0, 6, 0, 8, 2, 0, 0, 5, 10, 4, 9, 7, 3, 2, 0, 11, 10, 0, 10, 0, 2, 0, 1, 1, 6, 2, 5, 3, 2, 12, 2, 1, 7, 2, 0, 8, 8, 0, 0, 6, 1, 0, 1, 10, 14, 6, 8, 0, 3, 3, 1, 3, 1, 1, 3, 0, 0, 2, 0, 3, 1, 4, 11, 4, 3, 0, 2, 0, 10, 1, 4, 0, 6, 0, 1, 1, 0, 2, 1, 4, 5, 6, 0, 0, 6, 2, 20, 1, 7, 3, 7, 5, 0, 0, 2, 1, 0, 3, 0, 1, 0, 1, 11, 0, 10, 2, 0, 11, 0, 3, 1, 0, 0, 1, 0, 6, 2, 0, 0, 2, 0, 0, 5, 0, 2, 2, 0, 12, 0, 0, 0, 6, 3, 1, 3, 3, 1, 0, 3, 2, 5, 6, 11, 5, 0, 2, 7, 4, 0, 0, 0, 6, 1, 1, 10, 2, 0, 9, 1, 0, 0, 7, 9, 0, 7, 7, 0, 0, 3, 1, 2, 0, 0, 2, 1, 0, 0, 1, 0, 0, 13, 1, 0, 4, 1, 0, 4, 0, 3, 0, 0, 5, 0, 9, 6, 1, 11, 1, 3, 9, 0, 0, 0, 8, 7, 1, 6, 0, 6, 3, 1, 3, 2, 0, 0, 2, 2, 0, 4, 0, 0, 0, 2, 1, 13, 0, 1, 10, 0, 3, 1, 2, 8, 0, 0, 2, 1, 5, 1, 7, 0, 3, 5, 4, 2, 0, 3, 2, 9, 2, 5, 3, 0, 0, 2, 1, 9, 5, 5, 2, 11, 5, 0, 0, 0, 11, 1, 0, 4, 2, 0, 2, 0, 8, 0, 0, 6, 0, 0, 2, 8, 1, 0, 0, 0, 0, 2, 1, 2, 1, 0, 0, 1, 7, 5, 4, 2, 2, 0, 5, 1, 0, 0, 0, 8, 6, 4, 8, 10, 0, 0, 24, 8, 0, 13, 0, 3, 0, 2, 4, 0, 7, 0, 2, 5, 0, 2, 10, 3, 0, 9, 3, 0, 0, 8, 6, 9, 9, 2, 0, 0, 11, 1, 6, 10, 6, 2, 5, 3, 0, 1, 0, 6, 1, 1, 0, 0, 1, 0, 3, 10, 10, 0, 0, 1, 5, 4, 40, 5, 0, 0, 0, 9, 1, 9, 1, 0, 2, 3, 0, 0, 0, 3, 6, 0, 12, 10, 0, 1, 0, 0, 0, 0, 0, 1, 0, 3, 0, 32, 2, 9, 0, 3, 5, 2, 13, 0, 0, 2, 8, 9, 0, 3, 0, 0, 2, 0, 5, 2, 6, 4, 1, 1, 6, 4, 3, 0, 15, 0, 7, 4, 5, 0, 1, 5, 4, 0, 4, 9, 15, 0, 1, 3, 4, 0, 2, 6, 2, 8, 1, 4, 1, 0, 1, 0, 0, 4, 0, 0, 0, 0, 0, 0, 0, 0, 3, 0, 2, 5, 0, 1, 0, 4, 3, 0, 7, 6, 1, 0, 0, 9, 0, 0, 3, 0, 4, 0, 0, 0, 0, 1, 0, 15, 1, 1, 0, 0, 0, 5, 7, 3, 6, 10, 0, 0, 0, 8, 1, 10, 2, 12, 0, 0, 0, 0, 4, 0, 2, 0, 13, 4, 0, 0, 7, 0, 1, 2, 3, 3, 1, 0, 0, 3, 8, 1, 2, 0, 2, 5, 0, 0, 5, 0, 0, 0, 2, 2, 17, 0, 2, 4, 0, 5, 5, 0, 15, 15, 0, 8, 11, 0, 3, 2, 4, 0, 11, 6, 0, 2, 2, 1, 1, 0, 5, 14, 0, 0, 0, 1, 2, 5, 1, 3, 1, 8, 0, 0, 1, 5, 3, 1, 5, 3, 10, 2, 0, 0, 2, 0, 0, 3, 3, 0, 0, 1, 12, 0, 3, 4, 0, 0, 12, 3, 5, 4, 1, 1, 0, 0, 2, 2, 1, 0, 7, 5, 2, 1, 4, 1, 2, 3, 0, 0, 6, 0, 3, 5, 0, 0, 5, 1, 0, 0, 0, 6, 0, 0, 0, 0, 3, 12, 0, 3, 8, 13, 3, 1, 0, 0, 12, 0, 9, 1, 0, 1, 0, 5, 0, 0, 0, 0, 0, 12, 0, 2, 2, 0, 0, 2, 0, 0, 0, 0, 40, 0, 5, 9, 1, 2, 4, 6, 0, 1, 0, 4, 5, 2, 8, 4, 8, 12, 0, 6, 0, 1, 4, 3, 0, 0, 0, 0, 3, 0, 1, 0, 0, 6, 3, 4, 5, 0, 3, 0, 11, 8, 1, 3, 1, 0, 12, 0, 3, 0, 0, 0, 5, 1, 0, 5, 1, 1, 1], [9, 4, 1, 7, 9, 4, 2, 7, 2, 0, 1, 2, 7, 2, 3, 0, 6, 2, 1, 3, 2, 0, 0, 13, 0, 4, 1, 2, 2, 0, 9, 6, 4, 0, 0, 3, 33, 8, 4, 3, 9, 1, 8, 0, 8, 0, 2, 0, 3, 0, 4, 1, 4, 13, 8, 1, 6, 0, 7, 1, 1, 3, 0, 2, 0, 2, 12, 0, 6, 2, 0, 0, 0, 1, 0, 0, 5, 9, 2, 3, 2, 0, 6, 0, 1, 6, 12, 2, 11, 2, 5, 0, 1, 5, 1, 1, 2, 3, 0, 2, 0, 2, 8, 11, 2, 0, 2, 1, 0, 7, 1, 3, 0, 0, 14, 3, 2, 7, 2, 1, 2, 0, 13, 3, 8, 3, 6, 0, 0, 1, 4, 1, 0, 8, 3, 0, 0, 0, 5, 7, 0, 0, 1, 0, 2, 14, 2, 1, 3, 0, 5, 4, 3, 5, 0, 2, 0, 0, 2, 0, 0, 1, 0, 3, 8, 5, 3, 9, 5, 1, 2, 4, 4, 3, 0, 5, 5, 1, 4, 7, 0, 0, 5, 3, 1, 0, 3, 3, 1, 0, 4, 0, 0, 0, 1, 3, 3, 0, 10, 2, 0, 0, 2, 7, 1, 5, 1, 0, 0, 0, 8, 1, 0, 4, 0, 0, 2, 0, 1, 4, 0, 3, 0, 0, 0, 0, 3, 7, 4, 1, 0, 10, 0, 0, 3, 12, 3, 1, 0, 4, 0, 3, 6, 5, 0, 6, 0, 0, 0, 3, 12, 6, 3, 2, 0, 4, 2, 0, 2, 1, 2, 0, 2, 40, 0, 0, 0, 7, 7, 2, 0, 0, 0, 9, 0, 6, 1, 10, 12, 4, 1, 1, 1, 1, 0, 4, 4, 3, 2, 5, 3, 0, 0, 10, 1, 1, 7, 5, 0, 1, 8, 0, 0, 1, 1, 1, 0, 3, 0, 3, 3, 1, 1, 1, 0, 4, 0, 0, 3, 7, 8, 5, 0, 0, 3, 0, 0, 4, 4, 5, 1, 2, 0, 1, 0, 0, 0, 0, 7, 5, 0, 0, 5, 1, 0, 1, 8, 0, 3, 0, 0, 7, 0, 0, 5, 3, 7, 3, 0, 2, 9, 3, 2, 0, 0, 3, 9, 4, 3, 3, 0, 12, 0, 3, 0, 0, 2, 0, 7, 7, 0, 3, 0, 0, 3, 9, 7, 4, 3, 6, 1, 0, 3, 5, 3, 1, 9, 3, 4, 2, 5, 2, 0, 0, 3, 3, 4, 4, 4, 2, 2, 5, 7, 0, 0, 0, 0, 3, 4, 10, 2, 0, 0, 4, 1, 2, 0, 6, 5, 0, 3, 2, 1, 2, 0, 3, 4, 12, 1, 3, 2, 2, 0, 0, 0, 1, 0, 1, 0, 5, 3, 1, 2, 1, 0, 12, 0, 9, 1, 2, 4, 1, 0, 0, 6, 0, 4, 0, 1, 6, 2, 0, 3, 7, 0, 0, 4, 0, 4, 0, 1, 1, 9, 6, 0, 9, 0, 0], [0, 1, 0, 3, 2, 1, 10, 0, 0, 13, 3, 0, 7, 4, 5, 0, 0, 0, 0, 0, 0, 13, 1, 1, 0, 2, 5, 4, 0, 5, 0, 1, 0, 5, 6, 1, 0, 3, 3, 4, 10, 1, 1, 5, 0, 1, 0, 0, 0, 10, 2, 40, 0, 0, 4, 0, 1, 0, 4, 11, 0, 13, 2, 5, 0, 1, 2, 7, 0, 1, 0, 0, 0, 0, 3, 8, 1, 9, 1, 2, 4, 1, 0, 0, 2, 0, 2, 6, 2, 7, 7, 5, 1, 2, 0, 2, 2, 5, 0, 0, 2, 0, 0, 3, 0, 7, 2, 0, 1, 0, 10, 1, 5, 6, 11, 5, 2, 0, 0, 0, 0, 0, 2, 4, 3, 0, 0, 13, 0, 0, 0, 9, 0, 1, 10, 7, 1, 0, 7, 2, 0, 4, 0, 7, 0, 3, 5, 0, 1, 6, 0, 0, 5, 4, 8, 6, 7, 0, 3, 6, 0, 0, 1, 0, 3, 0, 9, 12, 0, 0, 3, 0, 3, 7, 2, 0, 0, 0, 5, 2, 6, 3, 0, 2, 0, 1, 0, 0, 3, 6, 0, 7, 0, 0, 0, 5, 2, 0, 0, 2, 0, 1, 0, 1, 1, 0, 1, 0, 5, 1, 0, 6, 1, 0, 7, 4, 0, 0, 2, 0, 0, 0, 4, 2, 0, 0, 0, 0, 8, 3, 0, 0, 1, 0, 6, 0, 0, 0, 0, 3, 5, 4, 1, 0, 3, 0, 0], [0, 4, 2, 3, 1, 1, 1, 0, 3, 2, 4, 0, 5, 3, 0, 0, 0, 1, 0, 0, 6, 13, 0, 3, 1, 0, 0, 7, 2, 0, 9, 8, 0, 3, 15, 2, 5, 9, 0, 11, 7, 0, 0, 1, 0, 8, 3, 0, 2, 4, 1, 19, 0, 8, 2, 8, 0, 5, 4, 0, 1, 0, 0, 4, 0, 2, 0, 0, 1, 0, 0, 0, 8, 5, 15, 10, 2, 3, 2, 0, 1, 2, 4, 0, 5, 0, 1, 1, 0, 0, 2, 15, 0, 0, 1, 0, 0, 6, 0, 11, 0, 6, 4, 0, 1, 8, 4, 28, 2, 2, 9, 10, 0, 2, 4, 6, 15, 0, 3, 0, 0, 0, 5, 0, 0, 0, 6, 13, 3, 5, 0, 0, 0, 1, 2, 0, 1, 1, 9, 7, 3, 3, 4, 12, 0, 2, 0, 1, 0, 4, 0, 0, 0, 0, 4, 4, 26, 12, 1, 11, 0, 0, 4, 2, 0, 7, 6, 11, 0, 0, 0, 0, 5, 3, 0, 3, 4, 0, 0, 2, 8, 2, 4, 3, 6, 0, 0, 11, 11, 0, 6, 4, 0, 0, 8, 1, 0, 1, 0, 2, 6, 0, 0, 1, 9, 0, 0, 2, 4, 1, 8], [4, 3, 0, 3, 2, 1, 12, 9, 0, 1, 0, 9, 2, 4, 0, 0, 0, 3, 6, 5, 0, 6, 1, 0, 2, 3, 1, 12, 1, 5, 2, 5, 3, 0, 8, 4, 0, 0, 3, 0, 9, 1, 6, 4, 0, 0, 3, 3, 0, 0, 0, 1, 0, 3, 0, 1, 1, 0, 0, 0, 15, 10, 5, 0, 8, 0, 0, 12, 2, 0, 2, 15, 0, 2, 0, 7, 2, 0, 7, 1, 3, 1, 0, 0, 0, 0, 11, 1, 1, 0, 0, 0, 1, 0, 1, 0, 8, 12, 0, 1], [8, 0, 0, 4, 15, 0, 7, 4, 12, 2, 8, 5, 0, 1, 1, 3, 5, 4, 7, 7, 0, 10, 2, 1, 0, 0, 9, 3, 2, 10, 5, 0, 3, 0, 0, 0, 12, 0, 5, 3, 4, 0, 1, 5, 1, 5, 0, 6, 12, 0, 0, 6, 2, 4, 3, 4, 2, 8, 7, 0, 1, 0, 1, 8, 1, 2, 4, 8, 4, 9, 0, 12, 1, 0, 1, 0, 5, 0, 1, 0, 6, 0, 3, 10, 0, 0, 0, 0, 0, 2, 0, 0, 0, 2, 13, 4, 3, 0, 0, 1, 6, 6, 9, 5, 0, 5, 0, 0, 9, 5, 0, 0, 2], [], []]\n"
     ]
    }
   ],
   "source": [
    "race_list = list(d['RACE1_BANNER'].unique())\n",
    "\n",
    "apr_list = []\n",
    "for item in race_list:\n",
    "    sum_list = list(df1['sum'][df1['RACE1_BANNER']==item])\n",
    "    apr_list.append(sum_list)\n",
    "    \n",
    "may_list = []\n",
    "for item in race_list:\n",
    "    sum_list = list(df2['sum'][df2['RACE1_BANNER']==item])\n",
    "    may_list.append(sum_list)\n",
    "    \n",
    "june_list = []\n",
    "for item in race_list:\n",
    "    sum_list = list(df3['sum'][df3['RACE1_BANNER']==item])\n",
    "    june_list.append(sum_list)\n",
    "    "
   ]
  },
  {
   "cell_type": "code",
   "execution_count": 13,
   "id": "7562ea6d-9a55-4ab8-8494-f2556a0b2055",
   "metadata": {},
   "outputs": [],
   "source": [
    "apr0 = apr_list[0] ## white\n",
    "# apr1 = apr_list[1] -- commented out unnecessary data points\n",
    "apr2 = apr_list[2] ## black\n",
    "apr3 = apr_list[3] ## hispanic\n",
    "apr4 = apr_list[4] ## asian\n",
    "apr5 = apr_list[5] ## other\n",
    "# apr6 = apr_list[6]\n",
    "# apr7 = apr_list[7]\n",
    "\n",
    "may0 = may_list[0]\n",
    "# may1 = may_list[1]\n",
    "may2 = may_list[2]\n",
    "may3 = may_list[3]\n",
    "may4 = may_list[4]\n",
    "may5 = may_list[5]\n",
    "# may6 = may_list[6]\n",
    "# may7 = may_list[7]\n",
    "\n",
    "june0 = june_list[0]\n",
    "# june1 = june_list[1]\n",
    "june2 = june_list[2]\n",
    "june3 = june_list[3]\n",
    "june4 = june_list[4]\n",
    "june5 = june_list[5]\n",
    "## june6 = june_list[6]\n",
    "## june7 = june_list[7]"
   ]
  },
  {
   "cell_type": "markdown",
   "id": "7b010238-42dd-40a0-9ed5-4dcaf3b7e744",
   "metadata": {},
   "source": [
    "### ANOVA test on each ethnic group"
   ]
  },
  {
   "cell_type": "markdown",
   "id": "8ef92188-d6e9-4589-85e2-52b2072a9439",
   "metadata": {},
   "source": [
    "#### White"
   ]
  },
  {
   "cell_type": "code",
   "execution_count": 23,
   "id": "4ae4d5b8-8383-4c1a-b458-01273c5fabfe",
   "metadata": {},
   "outputs": [
    {
     "data": {
      "text/plain": [
       "F_onewayResult(statistic=1.614877272880607, pvalue=0.19898003003888023)"
      ]
     },
     "execution_count": 23,
     "metadata": {},
     "output_type": "execute_result"
    }
   ],
   "source": [
    "scipy.stats.f_oneway(apr0, may0, june0)"
   ]
  },
  {
   "cell_type": "markdown",
   "id": "e4ca7e21-d1ad-433e-b180-0604b1ceb7fb",
   "metadata": {},
   "source": [
    "#### Black"
   ]
  },
  {
   "cell_type": "code",
   "execution_count": 24,
   "id": "88836730-d23d-4ce1-bc60-71038e34b51b",
   "metadata": {},
   "outputs": [
    {
     "data": {
      "text/plain": [
       "F_onewayResult(statistic=0.24440243359781427, pvalue=0.783217713267143)"
      ]
     },
     "execution_count": 24,
     "metadata": {},
     "output_type": "execute_result"
    }
   ],
   "source": [
    "scipy.stats.f_oneway(apr2, may2, june2)"
   ]
  },
  {
   "cell_type": "markdown",
   "id": "f06d35d9-66e4-4b6f-97e4-174e4c52c759",
   "metadata": {},
   "source": [
    "#### Hispanic"
   ]
  },
  {
   "cell_type": "code",
   "execution_count": 25,
   "id": "8aff2b29-f723-43e3-b24d-19c20622de37",
   "metadata": {},
   "outputs": [
    {
     "data": {
      "text/plain": [
       "F_onewayResult(statistic=0.6031018561463642, pvalue=0.5473583436858237)"
      ]
     },
     "execution_count": 25,
     "metadata": {},
     "output_type": "execute_result"
    }
   ],
   "source": [
    "scipy.stats.f_oneway(apr3, may3, june3)"
   ]
  },
  {
   "cell_type": "markdown",
   "id": "7d252a86-8c76-48de-8f30-ae48676b5944",
   "metadata": {},
   "source": [
    "#### Asian"
   ]
  },
  {
   "cell_type": "code",
   "execution_count": 26,
   "id": "a3b204d4-97bb-4200-9ab8-91a5133400fe",
   "metadata": {},
   "outputs": [
    {
     "data": {
      "text/plain": [
       "F_onewayResult(statistic=1.2647009905287232, pvalue=0.28345012518200297)"
      ]
     },
     "execution_count": 26,
     "metadata": {},
     "output_type": "execute_result"
    }
   ],
   "source": [
    "scipy.stats.f_oneway(apr4, may4, june4)"
   ]
  },
  {
   "cell_type": "markdown",
   "id": "16b632ab-857e-4075-a997-9b1975ad3b10",
   "metadata": {},
   "source": [
    "#### Other"
   ]
  },
  {
   "cell_type": "code",
   "execution_count": 27,
   "id": "dfd88d90-b00a-4d4a-9066-5ab31c9f72d5",
   "metadata": {},
   "outputs": [
    {
     "data": {
      "text/plain": [
       "F_onewayResult(statistic=0.6360549803050011, pvalue=0.5298751870553702)"
      ]
     },
     "execution_count": 27,
     "metadata": {},
     "output_type": "execute_result"
    }
   ],
   "source": [
    "scipy.stats.f_oneway(apr5, may5, june5)"
   ]
  },
  {
   "cell_type": "markdown",
   "id": "b44af9fa-bec8-4609-abd0-fb1e9096fa4b",
   "metadata": {},
   "source": [
    "After looking at each ethnic group individually, I then wanted to see if there was a relationship between the groups as a whole. To do this, I had to combine mental health score lists for each ethnic group so that I could run an ANOVA test on all of them at once. "
   ]
  },
  {
   "cell_type": "code",
   "execution_count": 17,
   "id": "2aaa1af4-03b1-46b9-909e-4c491c1ec14b",
   "metadata": {},
   "outputs": [],
   "source": [
    "race0 = apr0 + may0 + june0\n",
    "race2 = apr2 + may2 + june2\n",
    "race3 = apr3 + may3 + june3\n",
    "race4 = apr4 + may4 + june4\n",
    "race5 = apr5 + may5 + june5"
   ]
  },
  {
   "cell_type": "code",
   "execution_count": 18,
   "id": "a95171bf-7e87-435a-a416-d017fe848e9f",
   "metadata": {},
   "outputs": [
    {
     "data": {
      "text/plain": [
       "F_onewayResult(statistic=9.568409046084888, pvalue=1.0147909112331766e-07)"
      ]
     },
     "execution_count": 18,
     "metadata": {},
     "output_type": "execute_result"
    }
   ],
   "source": [
    "scipy.stats.f_oneway(race0, race2, race3, race4, race5)"
   ]
  },
  {
   "cell_type": "markdown",
   "id": "e207783d-4e35-4fc6-879e-54a50abd09c5",
   "metadata": {},
   "source": [
    "I then wanted to create a visual to show means of mental health scores across the three months as broken down by ethnic group."
   ]
  },
  {
   "cell_type": "code",
   "execution_count": 30,
   "id": "a9f3f475-8ab6-4785-8ad1-309b9924211c",
   "metadata": {},
   "outputs": [],
   "source": [
    "april = [apr0,apr2,apr3,apr4,apr4,apr5]\n",
    "mean_listApr = [np.mean(month) for month in april]\n",
    "\n",
    "may = [may0,may2,may3,may4,may4,may5]\n",
    "mean_listMay = [np.mean(month) for month in may]\n",
    "\n",
    "june = [june0,june2,june3,june4,june4,june5]\n",
    "mean_listJune = [np.mean(month) for month in june]\n",
    "\n",
    "months = [0, 1, 2]"
   ]
  },
  {
   "cell_type": "code",
   "execution_count": 70,
   "id": "c3447914-3815-450a-891b-37edd775f838",
   "metadata": {},
   "outputs": [
    {
     "data": {
      "text/plain": [
       "([<matplotlib.axis.XTick at 0x7fda4c822dc0>,\n",
       "  <matplotlib.axis.XTick at 0x7fda4c822e50>,\n",
       "  <matplotlib.axis.XTick at 0x7fda4c822ca0>],\n",
       " [Text(0, 0, 'April'), Text(1, 0, 'May'), Text(2, 0, 'June')])"
      ]
     },
     "execution_count": 70,
     "metadata": {},
     "output_type": "execute_result"
    },
    {
     "data": {
      "image/png": "[encoded data removed]",
      "text/plain": [
       "<Figure size 432x288 with 1 Axes>"
      ]
     },
     "metadata": {
      "needs_background": "light"
     },
     "output_type": "display_data"
    }
   ],
   "source": [
    "month_names = [\"April\", \"May\", \"June\"]\n",
    "plt.plot(months, [mean_listApr, mean_listMay, mean_listJune])\n",
    "plt.title(\"Mental Health Day Frequency Means Broken Down By Race\")\n",
    "plt.xlabel(\"Month\")\n",
    "plt.ylabel(\"Mental Health Day Frequency Per Week\")\n",
    "plt.xticks(months, month_names)\n"
   ]
  },
  {
   "cell_type": "markdown",
   "id": "df63eb27-1b64-4de1-904b-22d460935682",
   "metadata": {},
   "source": [
    "## Income Breakdown"
   ]
  },
  {
   "cell_type": "code",
   "execution_count": null,
   "id": "cb3d4ab5-b23a-4ec1-b47d-f91bda13f89f",
   "metadata": {},
   "outputs": [],
   "source": [
    "d.head()"
   ]
  },
  {
   "cell_type": "code",
   "execution_count": 41,
   "id": "41bf4524-a49e-4b9d-9884-175d39b44426",
   "metadata": {},
   "outputs": [],
   "source": [
    "income_list = list(d['INC_BANNER'].unique())"
   ]
  },
  {
   "cell_type": "code",
   "execution_count": 42,
   "id": "34d567d6-b887-49e7-a071-e0f8251fe6c8",
   "metadata": {},
   "outputs": [
    {
     "name": "stdout",
     "output_type": "stream",
     "text": [
      "['(1) Less than $30,000', '(4) More than $125k', '(3) $60k to less than $125k', '(2) $30k to less than $60k', nan, None]\n"
     ]
    }
   ],
   "source": [
    "print(income_list)\n"
   ]
  },
  {
   "cell_type": "code",
   "execution_count": 43,
   "id": "66ee003a-908b-418d-ad9a-588351243f38",
   "metadata": {},
   "outputs": [
    {
     "name": "stdout",
     "output_type": "stream",
     "text": [
      "[[2, 11, 3, 3, 3, 0, 0, 0, 0, 1, 2, 0, 0, 1, 3, 8, 0, 0, 0, 3, 5, 1, 6, 14, 3, 6, 8, 6, 10, 0, 0, 2, 1, 2, 12, 5, 11, 0, 10, 0, 3, 1, 4, 8, 0, 9, 6, 3, 7, 0, 2, 0, 14, 0, 4, 2, 3, 9, 3, 6, 0, 10, 2, 7, 1, 14, 6, 0, 10, 0, 6, 1, 7, 0, 3, 0, 0, 0, 1, 1, 6, 0, 5, 0, 0, 13, 4, 0, 14, 1, 2, 1, 4, 1, 2, 0, 6, 10, 6, 7, 7, 5, 2, 4, 10, 3, 2, 2, 1, 13, 0, 0, 2, 1, 14, 1, 8, 9, 6, 2, 3, 0, 9, 3, 0, 0, 4, 5, 1, 0, 0, 0, 7, 0, 0, 0, 3, 9, 8, 3, 5, 0, 1, 1, 8, 1, 4, 12, 2, 0, 8, 0, 1, 0, 12, 0, 9, 0, 1, 2, 4, 2, 0, 10, 0, 6, 1, 3, 32, 4, 3, 0, 0, 5, 6, 1, 7, 11, 1, 5, 2, 13, 1, 13, 1, 8, 4, 5, 12, 13, 0, 2, 0, 0, 1, 12, 4, 3, 3, 1, 3, 13, 2, 4, 4, 1, 0, 2, 1, 4, 3, 0, 5, 0, 0, 0, 0, 0, 0, 0, 2, 0, 15, 3, 4, 0, 0, 0, 2, 4, 0, 0, 4, 6, 0, 0, 0, 9, 6, 3, 1, 2, 0, 0, 10, 0, 0, 0, 0, 1, 3, 3, 1, 1, 13, 0, 0, 12, 0, 6, 0, 1, 2, 7, 1, 0, 0, 4, 2, 5, 3, 9, 5, 4, 3, 7, 0, 0, 2, 4, 1, 2, 4, 0, 0, 10, 5, 13, 0, 7, 6, 0, 2, 9, 2, 0, 11, 12, 6, 0, 1, 12, 0, 2, 3, 2, 0, 0, 0, 0, 1, 4, 0, 0, 2, 0, 3, 12, 15, 7, 0, 2, 0, 8, 7, 4, 3, 2, 4, 2, 0, 0, 15, 4, 5, 2, 8, 0, 0, 2, 7, 0, 0, 3, 5, 1, 2, 4, 1, 0, 0, 3, 0, 0, 8, 11, 1, 0, 0, 6, 0, 0, 11, 0, 2, 6, 6, 0, 0, 2, 1, 7, 2, 10, 0, 7, 0, 0, 0, 6, 5, 0, 0, 0, 0, 0, 3, 4, 2, 0, 40, 0, 7, 2, 0, 0, 6, 5, 0, 5, 2, 12, 0, 0, 4, 11, 0, 0, 0, 0, 0, 2, 1, 1, 8, 6, 3, 5, 0, 3, 0, 0, 2, 0, 7, 7, 12, 2, 10, 3, 4, 11, 3, 0, 2, 7, 1, 2, 3, 8, 11, 1, 2, 0, 1, 4, 1, 7, 5, 2, 7, 2, 3, 3, 10, 4, 15, 4, 0, 1, 0, 5, 1, 0, 9, 3, 0, 11, 0, 5, 0, 11, 8, 0, 1, 2, 3, 2, 3, 0, 3, 8, 0, 2, 0, 0, 0, 0, 0, 0, 11, 6, 0, 7, 10, 8, 2, 1, 0, 0, 3, 0, 5, 7, 0, 1, 15, 0, 0, 1, 1, 6, 7, 0, 2, 0, 1, 1, 3, 0, 0, 5, 0, 2, 0, 3, 0, 2, 0, 3, 0, 4, 0, 0, 1, 0, 2, 5, 1, 12, 3, 4, 1, 4, 7, 0, 3, 0, 0, 1, 0, 3, 0, 0, 5, 2, 0, 0, 4, 3, 4, 6, 0, 12, 0, 0, 0, 4, 1, 1, 0, 0, 9, 0, 0, 1, 2, 2, 4, 7, 3, 0, 6, 2, 0, 0, 0, 2, 6, 1, 2, 0, 15, 1, 1, 12, 0, 1, 6, 10, 0, 14, 0, 6, 0, 0, 5, 7, 1, 1, 1, 1, 5, 9, 1, 0, 0, 2, 3, 5, 4, 0, 0, 0, 0, 0, 4, 0, 0, 0, 6, 3, 0, 10, 0, 1, 12, 0, 0, 4, 1, 3, 0, 8, 0, 1, 0, 3, 0, 2, 0, 1, 3, 1, 0, 6, 0, 8, 2, 1, 0, 1, 0, 0, 0, 1, 2, 0, 4, 3, 9, 1, 0, 0, 4, 1, 8, 0, 1, 1, 5, 2, 1, 10, 6, 0, 4, 7, 1, 6, 0, 1, 3, 3, 5, 0, 3, 4, 0, 0, 0, 0, 3, 0, 0, 0, 9, 1, 0, 0, 0, 0], [6, 0, 3, 0, 1, 3, 3, 2, 2, 0, 0, 0, 2, 5, 8, 0, 2, 2, 3, 4, 5, 0, 7, 11, 0, 0, 1, 0, 0, 1, 0, 1, 0, 0, 2, 12, 9, 0, 1, 0, 3, 6, 2, 2, 2, 0, 3, 0, 0, 5, 1, 0, 4, 10, 2, 0, 3, 5, 0, 0, 4, 0, 5, 1, 0, 0, 2, 0, 2, 0, 0, 3, 3, 4, 2, 3, 4, 1, 4, 3, 0, 7, 4, 0, 0, 11, 5, 3, 0, 2, 0, 0, 2, 0, 0, 6, 4, 0, 5, 6, 3, 0, 2, 3, 0, 4, 0, 3, 2, 0, 1, 2, 1, 0, 2, 2, 0, 6, 1, 1, 9, 5, 4, 1, 4, 0, 0, 1, 2, 0, 3, 0, 0, 7, 0, 5, 0, 2, 1, 2, 1, 11, 1, 1, 0, 3, 4, 15, 2, 0, 3, 1, 10, 0, 2, 11, 4, 0, 13, 0, 2, 2, 0, 1, 3, 3, 0, 3, 0, 0, 6, 3, 7, 8, 6, 0, 5, 4, 0, 0, 0, 0, 3, 1, 2, 0, 0, 1, 0, 1, 1, 9, 0, 2, 6, 0, 0, 0, 0, 3, 1, 0, 5, 0, 7, 1, 3, 0, 2, 0, 3, 0, 7, 0, 2, 0, 2, 8, 0, 2, 5, 6, 0, 1, 1, 1, 3, 1, 1, 2, 0, 6, 0, 1, 0, 1, 0, 0, 8, 2, 0, 2, 0, 0, 3, 0, 0, 1, 2, 0, 0, 6, 5, 4, 6, 2, 15, 9, 14, 1, 1, 2, 1, 0, 9, 3, 4, 0, 11, 0, 0, 3, 0, 1, 1, 0, 5, 0, 0, 12, 0, 5, 0, 3, 2, 1, 0, 7, 3, 9, 3, 0, 0, 4, 2, 1, 0, 4, 0, 4, 1, 1, 2, 3, 0, 9, 11, 2, 0, 3, 1, 4, 0, 0, 0, 1, 4, 8, 4, 1, 0, 1, 0, 0, 2, 1, 4, 3, 0, 8, 1, 2, 0, 8, 5, 1, 0, 1, 1, 6, 1, 2, 12, 0, 1, 0, 0, 2, 3, 3, 3, 3, 0, 2, 0, 1, 0, 8, 1, 4, 0, 6, 0, 0, 0, 0, 2, 0, 0, 0, 1, 7, 0, 1, 0, 0, 2, 0, 0, 1, 0, 1, 7, 0, 12, 3, 6, 2, 1, 7, 0, 10, 2, 0, 0, 0, 2, 2, 0, 4, 0, 0, 5, 1, 5, 2, 4, 1, 12, 9, 5, 0, 0, 2, 0, 0, 0, 0, 2, 5, 0, 1, 0, 0, 1, 1, 3, 0, 1, 1, 5, 3, 2, 2, 0, 3, 0, 10, 0, 1, 2, 0, 0, 2, 1, 4, 0, 0, 0, 0, 0, 1, 4, 0, 4, 3, 4, 1, 1, 0, 6, 3, 7, 0, 2, 1, 2, 0, 3, 9, 0, 0, 2, 0, 4, 0, 4, 0, 0, 0, 0, 0, 2, 4, 1, 7, 0, 4, 0, 0, 2, 4, 3, 0, 3, 1, 4, 0, 3, 0, 0, 7, 1, 1, 0, 1, 9, 1, 8, 8, 1, 0, 0, 0, 0, 5, 0, 3, 2, 2, 5, 0, 0, 0, 1, 11, 0, 1, 0, 8, 0, 0, 0, 1, 8, 10, 3, 4, 0, 0, 8, 0, 0, 0, 1, 6, 2, 2, 3, 2, 2, 11, 2, 0, 0, 0, 1, 0, 2, 3, 0, 0, 0, 5, 0, 0, 0, 0, 1, 0, 0, 0, 0, 0, 2, 0, 5, 0, 0, 0, 6, 0, 11, 4, 1, 2, 0, 0, 2, 6, 3, 0, 0, 0, 3, 0, 3, 1, 2, 3, 3, 0, 0, 0, 3, 0, 0, 4, 0, 0, 4, 2, 4, 0, 2, 3, 0, 0, 8, 4, 0, 4, 0, 9, 0, 1, 1, 1, 8, 0, 0, 3, 0, 2, 3, 0, 5, 1, 9, 1, 5, 0, 1, 3, 0, 12, 0, 0, 4, 2, 0, 0, 0, 0, 5, 1, 0, 0, 1, 3, 0, 1, 0, 11, 1, 3, 9, 4, 1, 0, 13, 0, 1, 15, 0, 0, 0, 0, 0, 0, 1, 0, 5, 1, 2, 7, 0, 0, 7, 0, 14, 11, 1, 2, 6, 1, 2, 0, 2, 0, 0, 10, 2, 3, 0, 0, 1, 0, 1, 0, 0, 1, 4, 6, 3, 3, 1, 0, 2, 1, 4, 2, 2, 1, 0, 4, 0, 12, 4, 2, 3, 2, 0, 0, 8, 3, 0, 0, 0, 1, 0, 0, 0, 0, 10], [12, 2, 6, 0, 4, 3, 3, 0, 3, 2, 5, 3, 10, 0, 12, 0, 1, 7, 3, 2, 5, 7, 11, 0, 1, 0, 0, 0, 0, 0, 5, 0, 0, 0, 5, 1, 4, 9, 3, 5, 0, 0, 5, 0, 2, 8, 6, 0, 6, 0, 1, 2, 7, 0, 0, 1, 1, 0, 0, 2, 1, 0, 0, 8, 1, 1, 1, 7, 0, 1, 0, 1, 6, 0, 1, 2, 3, 0, 0, 6, 1, 0, 3, 2, 4, 2, 0, 1, 1, 0, 0, 0, 0, 0, 0, 10, 1, 3, 0, 1, 3, 1, 0, 0, 1, 0, 5, 0, 4, 2, 10, 2, 10, 0, 0, 3, 8, 5, 0, 2, 0, 0, 0, 5, 2, 0, 1, 5, 2, 8, 0, 0, 5, 0, 2, 12, 0, 7, 1, 2, 11, 2, 1, 0, 0, 0, 1, 0, 2, 3, 12, 2, 0, 1, 5, 0, 0, 0, 0, 7, 7, 2, 4, 1, 0, 1, 12, 3, 0, 0, 0, 2, 7, 5, 13, 0, 3, 2, 4, 0, 1, 10, 1, 2, 0, 1, 0, 2, 0, 3, 11, 1, 9, 4, 0, 0, 2, 0, 0, 3, 6, 0, 1, 0, 3, 14, 0, 3, 0, 0, 4, 1, 3, 4, 2, 5, 2, 1, 0, 12, 11, 0, 5, 3, 4, 0, 1, 0, 2, 5, 0, 11, 0, 0, 1, 1, 3, 0, 0, 4, 0, 0, 0, 4, 4, 2, 1, 10, 0, 0, 0, 5, 0, 2, 1, 0, 4, 0, 1, 5, 6, 2, 3, 1, 0, 1, 2, 0, 1, 0, 6, 1, 0, 7, 5, 1, 0, 10, 0, 6, 4, 0, 5, 4, 0, 0, 5, 4, 1, 0, 0, 3, 1, 1, 0, 5, 5, 0, 1, 0, 0, 1, 0, 4, 1, 1, 10, 3, 1, 2, 4, 2, 5, 2, 0, 0, 7, 5, 3, 0, 0, 2, 4, 3, 1, 2, 0, 1, 0, 0, 3, 0, 3, 3, 0, 6, 2, 0, 10, 3, 0, 4, 7, 0, 1, 0, 0, 0, 9, 1, 1, 2, 5, 2, 2, 4, 7, 3, 0, 3, 0, 2, 1, 2, 1, 0, 5, 1, 0, 0, 7, 0, 3, 3, 0, 9, 0, 3, 12, 1, 2, 8, 0, 1, 1, 13, 2, 0, 0, 3, 0, 1, 0, 3, 1, 0, 1, 0, 0, 0, 6, 0, 0, 0, 2, 1, 1, 2, 12, 0, 0, 0, 5, 1, 0, 2, 0, 0, 0, 1, 0, 14, 10, 4, 0, 0, 4, 0, 1, 0, 2, 0, 2, 0, 2, 0, 3, 8, 12, 2, 5, 2, 3, 0, 0, 0, 0, 0, 2, 6, 2, 0, 2, 0, 3, 9, 0, 8, 1, 0, 3, 2, 0, 0, 8, 4, 5, 1, 4, 0, 0, 8, 3, 1, 3, 4, 2, 0, 1, 0, 3, 0, 1, 4, 1, 2, 1, 2, 0, 11, 0, 1, 2, 5, 10, 6, 0, 7, 0, 0, 6, 7, 0, 0, 2, 0, 0, 3, 7, 0, 0, 0, 1, 0, 1, 0, 0, 40, 0, 5, 1, 5, 3, 1, 0, 2, 0, 0, 5, 3, 0, 6, 11, 1, 7, 0, 7, 5, 2, 3, 1, 5, 0, 0, 1, 3, 0, 1, 3, 0, 5, 6, 2, 1, 7, 0, 14, 0, 0, 0, 0, 2, 0, 3, 0, 1, 4, 8, 4, 0, 1, 11, 0, 0, 4, 0, 0, 0, 1, 3, 6, 0, 3, 2, 13, 14, 11, 1, 3, 0, 2, 1, 7, 15, 8, 0, 2, 4, 2, 2, 8, 1, 4, 0, 3, 1, 2, 1, 2, 1, 1, 0, 0, 1, 1, 0, 0, 3, 3, 0, 1, 0, 0, 0, 4, 2, 1, 12, 2, 0, 0, 0, 0, 4, 2, 1, 5, 3, 1, 2, 0, 9, 3, 4, 3, 3, 9, 0, 1, 3, 0, 3, 0, 0, 3, 2, 6, 4, 3, 4, 0, 13, 0, 2, 5, 0, 5, 0, 0, 3, 1, 1, 4, 0, 1, 0, 9, 1, 6, 2, 1, 0, 0, 1, 3, 0, 7, 16, 4, 1, 4, 0, 1, 0, 4, 0, 1, 3, 2, 1, 15, 3, 0, 0, 13, 2, 0, 6, 7, 4, 4, 1, 0, 0, 0, 5, 32, 3, 1, 2, 1, 3, 0, 0, 3, 0, 0, 0, 1, 4, 0, 1, 8, 0, 6, 0, 0, 7, 0, 4, 14, 1, 2, 0, 0, 3, 0, 3, 0, 3, 0, 4, 0, 0, 2, 0, 1, 2, 5, 0, 2, 0, 1, 2, 0, 0, 0, 0, 1, 10, 0, 4, 1, 13, 0, 1, 3, 1, 5, 1, 14, 2, 6, 0, 2, 0, 2, 0, 2, 1, 0, 0, 2, 0, 8, 1, 4, 2, 3, 0, 4, 6, 2, 1, 0, 0, 0, 2, 4, 0, 2, 2, 0, 5, 4, 0, 4, 0, 3, 3, 6, 11, 3, 8, 2, 1, 1, 1, 0, 0, 0, 4, 10, 0, 2, 0, 6, 11, 2, 0, 5, 3, 7, 4, 2, 2, 1, 0, 0, 1, 5, 4, 1, 0, 6, 0, 3, 0, 0, 8, 24, 2, 0, 0, 6, 2, 5, 3, 0, 1, 0, 1, 2, 1, 1, 4, 0, 0, 2, 0, 0, 1, 6, 2, 0, 20, 3, 0, 4, 1, 0, 0, 0, 0, 0, 3, 8, 0, 0, 2, 1, 0, 0, 1, 11, 12, 0, 2, 1, 5, 5, 3, 2, 2, 3, 0, 4, 0, 11, 8, 0, 6, 0, 8, 0, 5, 10, 3, 6, 0, 1, 1, 0, 1, 0, 6, 2, 0, 1, 0, 9, 10, 7, 9, 5, 0, 8, 1, 2, 0, 0, 13, 7, 0, 2, 9, 0, 3, 3, 0, 0, 5, 2, 0, 0, 0, 3, 0, 0, 5, 3, 0, 0, 7, 0, 0, 1, 1, 0, 2, 2, 0, 1, 6, 3, 5, 0, 2, 4, 0, 5, 0, 0, 3, 2, 0, 2, 8, 1, 0, 0, 3, 0, 0, 2, 0, 6, 1, 0, 0, 2, 2, 1, 0, 4, 4, 1, 3, 0, 0, 7, 0, 1, 0, 0, 2, 0, 0, 0, 0, 0, 6, 1, 0, 8, 3, 0, 5, 0, 0, 1, 5, 8, 0, 3, 0, 8, 2, 3, 1, 0, 3, 2, 0, 0, 5, 0, 3, 4, 0, 6, 0, 2, 0, 0, 0, 1, 1, 1, 0, 1, 2, 0, 6, 0, 0, 0, 0, 1, 0, 0, 3, 0, 0, 3, 8, 9, 9, 3, 0, 3, 5, 0, 2, 1, 2, 0, 0, 6, 0, 1, 0, 5, 2, 1, 5, 0, 5, 0, 2, 0, 3, 4, 0, 1, 0, 3, 2, 8, 6, 10, 1, 0, 0, 7, 0, 4, 0, 0, 3, 0, 2, 4, 0, 1, 0, 0, 0, 2, 2, 1, 0, 5, 3, 0, 1, 1, 0, 3, 0, 1, 7, 7, 0, 2, 5, 3, 0, 0, 0, 3, 0, 1, 8, 5, 5, 0, 4, 0, 1, 1, 3, 1, 0, 2, 6, 10, 0, 12, 1, 9, 1, 0, 0, 6, 1, 2, 2, 0, 1, 3, 3, 5, 7, 7, 3, 3, 3, 2, 0, 1, 0, 0, 0, 0, 4, 0, 0, 0, 0, 4, 0, 0, 0, 0, 0, 9, 0, 2, 1, 5, 3, 0, 5, 0, 1, 2, 0, 0, 3, 2, 0, 0, 0, 1, 2, 9, 0, 0, 1, 7, 1, 5, 0, 3, 0, 1, 0, 1, 7, 1, 9, 0, 0, 0, 0, 11, 1, 0, 0, 0, 2, 7, 0, 4, 1, 0, 5, 0, 3, 9, 0, 0, 6, 0, 1, 4, 0, 4, 1, 0, 0, 0, 1, 4, 3, 1, 8, 9, 8, 5, 0, 0, 6, 3, 0, 1, 1, 0, 0, 0, 5, 2, 2, 6, 0, 0, 2, 4, 2, 0, 10, 0, 0, 4, 3, 10, 0, 2, 4, 4, 0, 2, 0, 0, 3, 0], [11, 0, 2, 0, 2, 1, 0, 8, 0, 3, 2, 0, 1, 13, 4, 1, 1, 10, 6, 0, 2, 7, 3, 8, 14, 0, 0, 2, 0, 4, 1, 5, 0, 12, 4, 1, 5, 1, 1, 1, 12, 0, 2, 0, 9, 3, 4, 4, 6, 0, 5, 7, 4, 10, 2, 0, 1, 3, 5, 13, 1, 4, 1, 9, 0, 0, 0, 3, 1, 5, 1, 0, 3, 3, 2, 5, 4, 0, 2, 0, 0, 6, 8, 1, 3, 1, 4, 1, 0, 4, 0, 1, 2, 0, 8, 1, 0, 6, 1, 5, 0, 0, 0, 6, 1, 0, 0, 9, 0, 3, 0, 5, 0, 0, 1, 0, 3, 14, 7, 0, 9, 4, 0, 3, 3, 3, 0, 1, 4, 12, 0, 0, 6, 0, 6, 0, 3, 2, 0, 0, 0, 0, 1, 0, 4, 2, 8, 6, 2, 0, 1, 12, 13, 0, 9, 0, 2, 5, 0, 0, 4, 7, 0, 0, 3, 0, 6, 0, 6, 5, 0, 0, 1, 1, 0, 8, 0, 3, 8, 9, 0, 2, 6, 5, 0, 0, 0, 4, 4, 1, 2, 5, 4, 0, 0, 0, 3, 4, 0, 8, 0, 1, 1, 0, 0, 9, 1, 1, 0, 0, 4, 0, 0, 0, 0, 0, 1, 3, 0, 0, 0, 1, 3, 1, 4, 0, 2, 0, 3, 0, 1, 0, 4, 0, 9, 3, 2, 1, 8, 2, 2, 3, 13, 0, 2, 4, 0, 0, 2, 10, 3, 5, 0, 0, 0, 2, 8, 13, 0, 2, 13, 6, 0, 15, 2, 8, 0, 1, 9, 0, 0, 0, 1, 9, 11, 0, 2, 1, 3, 1, 8, 4, 1, 1, 10, 8, 1, 0, 0, 9, 4, 8, 1, 0, 2, 1, 2, 7, 0, 3, 2, 12, 2, 1, 0, 5, 0, 9, 4, 0, 0, 0, 0, 5, 0, 4, 0, 2, 0, 0, 1, 0, 8, 1, 4, 0, 6, 6, 0, 0, 1, 3, 11, 0, 0, 1, 2, 1, 1, 0, 0, 5, 0, 0, 1, 5, 1, 3, 11, 0, 15, 6, 2, 0, 8, 0, 0, 0, 0, 0, 0, 3, 3, 2, 0, 0, 0, 0, 1, 2, 5, 1, 14, 0, 1, 7, 1, 3, 5, 0, 0, 2, 0, 0, 1, 1, 7, 3, 4, 3, 5, 0, 3, 5, 7, 0, 0, 2, 7, 0, 0, 1, 2, 3, 0, 5, 0, 2, 1, 8, 3, 0, 11, 0, 3, 2, 0, 7, 4, 3, 3, 0, 6, 12, 0, 1, 15, 1, 1, 5, 0, 0, 3, 4, 5, 0, 0, 0, 2, 0, 1, 0, 0, 0, 0, 2, 0, 0, 3, 0, 2, 0, 6, 0, 9, 3, 1, 0, 3, 7, 4, 0, 2, 0, 0, 3, 12, 3, 3, 8, 4, 2, 1, 0, 4, 0, 0, 4, 0, 5, 9, 0, 0, 2, 0, 0, 4, 3, 0, 8, 10, 10, 0, 1, 0, 4, 1, 3, 9, 4, 13, 2, 0, 7, 12, 0, 6, 3, 5, 0, 0, 0, 2, 0, 1, 2, 9, 0, 10, 0, 4, 2, 2, 6, 0, 2, 5, 5, 3, 0, 4, 0, 5, 0, 0, 5, 0, 3, 4, 0, 3, 0, 6, 3, 0, 2, 0, 0, 0, 0, 0, 10, 0, 6, 3, 0, 2, 12, 0, 0, 4, 5, 2, 1, 7, 9, 1, 0, 12, 5, 2, 0, 0, 0, 3, 1, 1, 0, 0, 0, 2, 0, 0, 2, 0, 5, 0, 10, 0, 6, 3, 2, 5, 0, 5, 0, 2, 0, 6, 0, 2, 6, 0, 8, 0, 0, 0, 0, 6, 0, 6, 5, 2, 8, 0, 1, 0, 2, 0, 0, 1, 12, 0, 3, 0, 5, 1, 6, 1, 8, 9, 4, 2, 1, 3, 2, 0, 1, 10, 0, 1, 0, 0, 0, 0, 0, 3, 5, 0, 6, 2, 2, 14, 2, 1, 4, 2, 8, 0, 1, 5, 0, 7, 2, 1, 7, 1, 7, 10, 0, 2, 0, 2, 4, 1, 0, 0, 11, 1, 14, 0, 1, 8, 3, 3, 13, 4, 4, 9, 0, 0, 0, 1, 4, 2, 0, 0, 4, 6, 7, 6, 0, 5, 6, 5, 0, 4, 7, 1, 9, 1, 0, 3, 1, 2, 5, 6, 0, 0, 0, 6, 5, 1, 10, 3, 3, 9, 0, 2, 0, 1, 0, 2, 0, 0, 3, 0, 0, 11, 0, 2, 0, 2, 0, 0, 3, 6, 1, 1, 0, 5, 0, 1, 0, 2, 0, 0, 0, 0, 0, 2, 2, 6, 0, 4, 1, 7, 10, 0, 7, 9, 12, 0, 8, 7, 1, 2, 12, 0, 1, 0, 0, 0, 5, 0, 0, 8, 3, 0, 8, 3, 2, 2, 1, 8, 0, 0, 1, 1, 0, 2, 4, 0, 0, 2, 0, 0, 1, 5, 3, 1, 4, 0, 2, 1, 4, 0, 11, 4, 1, 4, 2, 5, 8, 3, 12, 0, 1, 3, 3, 0, 2, 0, 6, 4, 1, 5, 0, 0, 0, 3, 9, 2, 5, 0, 0, 5, 3, 6, 0, 1, 3, 7, 11, 0, 1, 9, 5, 14, 1, 2, 0, 0, 1, 4, 0, 0, 0, 8, 1], [], []]\n"
     ]
    }
   ],
   "source": [
    "inc_apr_list = []\n",
    "for item in income_list:\n",
    "    sum_list = list(df1['sum'][df1['INC_BANNER']==item])\n",
    "    inc_apr_list.append(sum_list)\n",
    "    \n",
    "inc_may_list = []\n",
    "for item in income_list:\n",
    "    sum_list = list(df2['sum'][df2['INC_BANNER']==item])\n",
    "    inc_may_list.append(sum_list)\n",
    "    \n",
    "inc_june_list = []\n",
    "for item in income_list:\n",
    "    sum_list = list(df3['sum'][df3['INC_BANNER']==item])\n",
    "    inc_june_list.append(sum_list)\n",
    "    \n",
    "print(inc_may_list)"
   ]
  },
  {
   "cell_type": "code",
   "execution_count": 44,
   "id": "7e1eccd2-2e2b-4118-aca0-0a3029af4535",
   "metadata": {},
   "outputs": [],
   "source": [
    "inc_apr0 = inc_apr_list[0] ## less than 30k\n",
    "inc_apr1 = inc_apr_list[1] ## more than 125k\n",
    "inc_apr2 = inc_apr_list[2] ## 60k to 125k\n",
    "inc_apr3 = inc_apr_list[3] ## 30k to 60k\n",
    "\n",
    "inc_may0 = inc_may_list[0] ## less than 30k\n",
    "inc_may1 = inc_may_list[1] ## more than 125k\n",
    "inc_may2 = inc_may_list[2] ## 60k to 125k\n",
    "inc_may3 = inc_may_list[3] ## 30k to 60k\n",
    "\n",
    "inc_june0 = inc_june_list[0] ## less than 30k\n",
    "inc_june1 = inc_june_list[1] ## more than 125k\n",
    "inc_june2 = inc_june_list[2] ## 60k to 125k\n",
    "inc_june3 = inc_june_list[3] ## 30k to 60k"
   ]
  },
  {
   "cell_type": "code",
   "execution_count": 45,
   "id": "92ac3333-fb1a-4acf-b24a-1b897e33c7c1",
   "metadata": {},
   "outputs": [],
   "source": [
    "inc0 = inc_apr0 + inc_may0 +inc_june0\n",
    "inc1 = inc_apr1 + inc_may1 +inc_june1\n",
    "inc2 = inc_apr2 + inc_may2 +inc_june2\n",
    "inc3 = inc_apr3 + inc_may3 +inc_june3"
   ]
  },
  {
   "cell_type": "code",
   "execution_count": 46,
   "id": "ab5e526b-c4b2-4f82-a2b5-2ce08248bf49",
   "metadata": {},
   "outputs": [
    {
     "data": {
      "text/plain": [
       "F_onewayResult(statistic=50.90679524018242, pvalue=1.0873741437512506e-32)"
      ]
     },
     "execution_count": 46,
     "metadata": {},
     "output_type": "execute_result"
    }
   ],
   "source": [
    "scipy.stats.f_oneway(inc0, inc1, inc2, inc3)"
   ]
  },
  {
   "cell_type": "code",
   "execution_count": 47,
   "id": "1e9736ae-4b56-4031-91b3-013b952c0d2a",
   "metadata": {},
   "outputs": [],
   "source": [
    "inc_april = [inc_apr0,inc_apr1,inc_apr2,inc_apr3]\n",
    "inc_mean_listApr = [np.mean(month) for month in inc_april]\n",
    "\n",
    "inc_may = [inc_may0,inc_may1,inc_may2,inc_may3]\n",
    "inc_mean_listMay = [np.mean(month) for month in inc_may]\n",
    "\n",
    "inc_june = [inc_june0,inc_june1,inc_june2,inc_june3]\n",
    "inc_mean_listJune = [np.mean(month) for month in inc_june]\n",
    "\n"
   ]
  },
  {
   "cell_type": "code",
   "execution_count": 49,
   "id": "5b5b5339-cf8e-40c1-83d7-eae38e30891f",
   "metadata": {},
   "outputs": [
    {
     "data": {
      "text/plain": [
       "([<matplotlib.axis.XTick at 0x7fda4ea25340>,\n",
       "  <matplotlib.axis.XTick at 0x7fda459c1940>,\n",
       "  <matplotlib.axis.XTick at 0x7fda459f4f40>],\n",
       " [Text(0, 0, 'April'), Text(1, 0, 'May'), Text(2, 0, 'June')])"
      ]
     },
     "execution_count": 49,
     "metadata": {},
     "output_type": "execute_result"
    },
    {
     "data": {
      "image/png": "[encoded data removed]",
      "text/plain": [
       "<Figure size 432x288 with 1 Axes>"
      ]
     },
     "metadata": {
      "needs_background": "light"
     },
     "output_type": "display_data"
    }
   ],
   "source": [
    "plt.plot(months, [inc_mean_listApr, inc_mean_listMay, inc_mean_listJune])\n",
    "plt.title(\"Mental Health Day Frequency Means Broken Down By Income\")\n",
    "plt.xlabel(\"Month\")\n",
    "plt.ylabel(\"Mental Health Day Frequency Per Week\")\n",
    "plt.xticks(months, month_names)"
   ]
  },
  {
   "cell_type": "code",
   "execution_count": 50,
   "id": "8c44ecbc-ee3f-4bb2-8b11-e4fca1fe039f",
   "metadata": {},
   "outputs": [
    {
     "data": {
      "text/plain": [
       "F_onewayResult(statistic=2.510022887907529, pvalue=0.08147190111807033)"
      ]
     },
     "execution_count": 50,
     "metadata": {},
     "output_type": "execute_result"
    }
   ],
   "source": [
    "scipy.stats.f_oneway(inc_apr0, inc_may0, inc_june0)"
   ]
  },
  {
   "cell_type": "code",
   "execution_count": 51,
   "id": "aed95369-2299-44df-a00e-c42e40a9ee7a",
   "metadata": {},
   "outputs": [
    {
     "data": {
      "text/plain": [
       "F_onewayResult(statistic=0.22472525045681221, pvalue=0.7987518910044002)"
      ]
     },
     "execution_count": 51,
     "metadata": {},
     "output_type": "execute_result"
    }
   ],
   "source": [
    "scipy.stats.f_oneway(inc_apr1, inc_may1, inc_june1)"
   ]
  },
  {
   "cell_type": "code",
   "execution_count": null,
   "id": "8524fbd3-38fe-4142-89b1-6a5099a8db39",
   "metadata": {},
   "outputs": [
    {
     "data": {
      "text/plain": [
       "F_onewayResult(statistic=0.1733441441390946, pvalue=0.8408539947133205)"
      ]
     },
     "execution_count": 52,
     "metadata": {},
     "output_type": "execute_result"
    }
   ],
   "source": [
    "scipy.stats.f_oneway(inc_apr2, inc_may2, inc_june2)"
   ]
  },
  {
   "cell_type": "code",
   "execution_count": null,
   "id": "12d172ec-7b7a-41f2-ac92-c1e9922562dd",
   "metadata": {},
   "outputs": [
    {
     "data": {
      "text/plain": [
       "F_onewayResult(statistic=0.188612302127244, pvalue=0.8281176331872637)"
      ]
     },
     "execution_count": 53,
     "metadata": {},
     "output_type": "execute_result"
    }
   ],
   "source": [
    "scipy.stats.f_oneway(inc_apr3, inc_may3, inc_june3)"
   ]
  },
  {
   "cell_type": "code",
   "execution_count": null,
   "id": "b4db7762-469c-4569-bcc5-a5e85ec2e692",
   "metadata": {},
   "outputs": [],
   "source": [
    "# Findings"
   ]
  },
  {
   "cell_type": "code",
   "execution_count": null,
   "id": "ae0371c9-7468-4def-a2f8-209846408a4c",
   "metadata": {},
   "outputs": [],
   "source": [
    "# Conclusion"
   ]
  }
 ],
 "metadata": {
  "kernelspec": {
   "display_name": "Python 3 (ipykernel)",
   "language": "python",
   "name": "python3"
  },
  "language_info": {
   "codemirror_mode": {
    "name": "ipython",
    "version": 3
   },
   "file_extension": ".py",
   "mimetype": "text/x-python",
   "name": "python",
   "nbconvert_exporter": "python",
   "pygments_lexer": "ipython3",
   "version": "3.9.7"
  }
 },
 "nbformat": 4,
 "nbformat_minor": 5
}
